{
 "cells": [
  {
   "cell_type": "code",
   "execution_count": 5,
   "metadata": {},
   "outputs": [],
   "source": [
    "import wrds\n",
    "import pandas as pd\n",
    "pd.set_option('display.max_columns', None)\n",
    "pd.set_option('display.max_rows', None)\n",
    "\n",
    "import os\n",
    "import sys\n",
    "from pathlib import Path\n",
    "\n",
    "# add the src directory to the path in order to import config\n",
    "current_directory = Path.cwd()\n",
    "src_path = current_directory.parent / \"src\"\n",
    "sys.path.insert(0, str(src_path))\n",
    "\n",
    "import config\n",
    "WRDS_USERNAME = Path(config.WRDS_USERNAME)"
   ]
  },
  {
   "cell_type": "code",
   "execution_count": 50,
   "metadata": {},
   "outputs": [],
   "source": [
    "def pull_option_price(wrds_username, year=2012): \n",
    "\tdb = wrds.Connection(wrds_username=wrds_username)\n",
    "\n",
    "\tsql_query = f\"\"\"\n",
    "\t\t\t\t\tSELECT \n",
    "\t\t\t\t\t\t*\n",
    "\t\t\t\t\tFROM\n",
    "\t\t\t\t\t\toptionm_all.opprcd{year} AS a\n",
    "\t\t\t\t\tWHERE\n",
    "\t\t\t\t\t\ta.secid=108105;\n",
    "\t\t\t\t\"\"\"\n",
    "\t\t\n",
    "\toptm_df = db.raw_sql(sql_query, date_cols = [\"date\"])\n",
    "\n",
    "\tdb.close()\n",
    "\n",
    "\treturn optm_df\n",
    "\n",
    "def pull_all_option_price(wrds_username, last_year=2012): \n",
    "\tdb = wrds.Connection(wrds_username=wrds_username)\n",
    "\n",
    "\toptm_df = []\n",
    "\n",
    "\tfor year in range(1996,last_year+1):\n",
    "\t\tsql_query = f\"\"\"\n",
    "\t\t\t\t\t\tSELECT \n",
    "\t\t\t\t\t\t\ta.date, a.exdate, a.cp_flag, a.strike_price\n",
    "\t\t\t\t\t\tFROM\n",
    "\t\t\t\t\t\t\toptionm_all.opprcd{year} AS a\n",
    "\t\t\t\t\t\tWHERE\n",
    "\t\t\t\t\t\t\ta.secid=108105;\n",
    "\t\t\t\t\t\"\"\"\n",
    "\t\t\n",
    "\t\toptm = db.raw_sql(sql_query, date_cols = [\"date\"])\n",
    "\n",
    "\t\toptm_df.append(optm)\n",
    "\t\t\n",
    "\tdb.close()\n",
    "\n",
    "\toptm_df = pd.concat(optm_df)\n",
    "\t\n",
    "\treturn optm_df\n",
    "\n",
    "\n",
    "def pull_all_req_data(wrds_username, start_year=1996, end_year=2012): \n",
    "\tdb = wrds.Connection(wrds_username=wrds_username)\n",
    "\n",
    "\toptm_df = []\n",
    "\n",
    "\tfor year in range(start_year, end_year+1):\n",
    "\t\tsql_query = f\"\"\"\n",
    "\t\t\t\t\t\tSELECT \n",
    "\t\t\t\t\t\t\ta.date, a.exdate, a.cp_flag, a.strike_price, a.best_bid, a.best_offer,a.volume,\n",
    "\t\t\t\t\t\t\tb.open, b.close, a.impl_volatility, c.tb_m3\n",
    "\t\t\t\t\t\tFROM\n",
    "\t\t\t\t\t\t\toptionm_all.opprcd{year} AS a\n",
    "\t\t\t\t\t\tJOIN \n",
    "\t\t\t\t\t\t\toptionm_all.secprd{year} AS b ON a.date = b.date AND a.secid = b.secid\n",
    "\t\t\t\t\t\tJOIN \n",
    "\t\t\t\t\t\t\tfrb_all.rates_daily AS c ON c.date = a.date \n",
    "\t\t\t\t\t\tWHERE\n",
    "\t\t\t\t\t\t\ta.secid=108105 AND a.date <= '2012-01-31';\n",
    "\t\t\t\t\t\"\"\"\n",
    "\t\t\n",
    "\t\toptm = db.raw_sql(sql_query, date_cols = [\"date\"])\n",
    "\n",
    "\t\toptm_df.append(optm)\n",
    "\t\t\n",
    "\tdb.close()\n",
    "\n",
    "\toptm_df = pd.concat(optm_df)\n",
    "\t\n",
    "\treturn optm_df"
   ]
  },
  {
   "cell_type": "code",
   "execution_count": 51,
   "metadata": {},
   "outputs": [
    {
     "name": "stdout",
     "output_type": "stream",
     "text": [
      "Loading library list...\n",
      "Done\n"
     ]
    }
   ],
   "source": [
    "optm_df = pull_all_req_data(WRDS_USERNAME)"
   ]
  },
  {
   "cell_type": "code",
   "execution_count": 53,
   "metadata": {},
   "outputs": [
    {
     "name": "stdout",
     "output_type": "stream",
     "text": [
      "(3410580, 11)\n",
      "{'P': 1706360, 'C': 1704220}\n"
     ]
    }
   ],
   "source": [
    "print(optm_df.shape)\n",
    "print(optm_df['cp_flag'].value_counts().to_dict())"
   ]
  },
  {
   "cell_type": "code",
   "execution_count": 54,
   "metadata": {},
   "outputs": [],
   "source": [
    "optm_df['date'] = pd.to_datetime(optm_df['date'])\n",
    "optm_df['option_price'] = (optm_df['best_bid'] + optm_df['best_offer'])/2\n",
    "optm_df['index_price'] = (optm_df['open'] + optm_df['close'])/2\n",
    "optm_df['strike_price'] = optm_df['strike_price']/1000"
   ]
  },
  {
   "cell_type": "markdown",
   "metadata": {},
   "source": [
    "### Level 1 filters"
   ]
  },
  {
   "cell_type": "markdown",
   "metadata": {},
   "source": [
    "#### Identical Filter:\n",
    "The OptionMetrics data set contain duplicate observations,\n",
    "defined as two or more quotes with identical option type, strike, expiration\n",
    "date, and price. In each such case, we eliminate all but one of the quotes."
   ]
  },
  {
   "cell_type": "code",
   "execution_count": 84,
   "metadata": {},
   "outputs": [],
   "source": [
    "# Assuming 'df' is your DataFrame\n",
    "\n",
    "def delete_identical_filter(df):\n",
    "    columns_to_check = ['cp_flag', 'strike_price','date', 'exdate', 'best_offer']\n",
    "\n",
    "    # Drop duplicates based on specified columns\n",
    "    df = df.drop_duplicates(subset=columns_to_check, keep='first')\n",
    "\n",
    "    return df"
   ]
  },
  {
   "cell_type": "code",
   "execution_count": 85,
   "metadata": {},
   "outputs": [
    {
     "name": "stdout",
     "output_type": "stream",
     "text": [
      "(3410580, 13)\n"
     ]
    }
   ],
   "source": [
    "optm_l1_df = delete_identical_filter(optm_df)\n",
    "print(optm_l1_df.shape)"
   ]
  },
  {
   "cell_type": "markdown",
   "metadata": {},
   "source": [
    "#### Identical Except Price Filter:\n",
    "There are a few sets of quotes with identical\n",
    "terms (type, strike, and maturity) but different prices. When this occurs, we\n",
    "keep the quote whose T-bill-based implied volatility is closest to that of its\n",
    "moneyness neighbors, and delete the others.\n",
    "\n",
    "NEXT STEPS - determine moneyness neighbors >> only 18 duplicates so 9 deleted versus 11 in paper"
   ]
  },
  {
   "cell_type": "code",
   "execution_count": 86,
   "metadata": {},
   "outputs": [],
   "source": [
    "def delete_identical_xprice_filter(df):\n",
    "    columns_to_check = ['cp_flag', 'strike_price','date', 'exdate']\n",
    "\n",
    "    # Drop duplicates based on specified columns\n",
    "    df = df.drop_duplicates(subset=columns_to_check, keep='first')\n",
    "\n",
    "    return df"
   ]
  },
  {
   "cell_type": "code",
   "execution_count": 87,
   "metadata": {},
   "outputs": [
    {
     "data": {
      "text/plain": [
       "(20, 13)"
      ]
     },
     "execution_count": 87,
     "metadata": {},
     "output_type": "execute_result"
    }
   ],
   "source": [
    "columns_to_check = ['cp_flag', 'strike_price','date', 'exdate']\n",
    "\n",
    "identical_df = optm_l1_df[optm_l1_df.duplicated(columns_to_check,keep=False)].sort_values(columns_to_check)\n",
    "\n",
    "identical_df.shape"
   ]
  },
  {
   "cell_type": "code",
   "execution_count": 88,
   "metadata": {},
   "outputs": [
    {
     "data": {
      "text/plain": [
       "(10, 13)"
      ]
     },
     "execution_count": 88,
     "metadata": {},
     "output_type": "execute_result"
    }
   ],
   "source": [
    "identical_df = optm_l1_df[optm_l1_df.duplicated(columns_to_check,keep='first')].sort_values(columns_to_check)\n",
    "identical_df.shape"
   ]
  },
  {
   "cell_type": "code",
   "execution_count": 89,
   "metadata": {},
   "outputs": [
    {
     "name": "stdout",
     "output_type": "stream",
     "text": [
      "(3410570, 13)\n"
     ]
    }
   ],
   "source": [
    "optm_l1_df = delete_identical_xprice_filter(optm_l1_df)\n",
    "print(optm_l1_df.shape)"
   ]
  },
  {
   "cell_type": "code",
   "execution_count": 90,
   "metadata": {},
   "outputs": [],
   "source": [
    "def delete_zero_bid(df):\n",
    "    df=df.loc[df['best_bid'] > 0]\n",
    "    return df"
   ]
  },
  {
   "cell_type": "code",
   "execution_count": 91,
   "metadata": {},
   "outputs": [],
   "source": [
    "optm_l1_df = delete_zero_bid(optm_l1_df)"
   ]
  },
  {
   "cell_type": "code",
   "execution_count": 92,
   "metadata": {},
   "outputs": [
    {
     "data": {
      "text/plain": [
       "272088"
      ]
     },
     "execution_count": 92,
     "metadata": {},
     "output_type": "execute_result"
    }
   ],
   "source": [
    "optm_df.shape[0] - optm_l1_df.shape[0]"
   ]
  },
  {
   "cell_type": "code",
   "execution_count": null,
   "metadata": {},
   "outputs": [],
   "source": []
  },
  {
   "cell_type": "code",
   "execution_count": null,
   "metadata": {},
   "outputs": [],
   "source": []
  },
  {
   "cell_type": "code",
   "execution_count": null,
   "metadata": {},
   "outputs": [],
   "source": []
  },
  {
   "cell_type": "code",
   "execution_count": null,
   "metadata": {},
   "outputs": [],
   "source": []
  },
  {
   "cell_type": "code",
   "execution_count": null,
   "metadata": {},
   "outputs": [],
   "source": []
  },
  {
   "cell_type": "code",
   "execution_count": null,
   "metadata": {},
   "outputs": [],
   "source": []
  },
  {
   "cell_type": "code",
   "execution_count": null,
   "metadata": {},
   "outputs": [],
   "source": []
  },
  {
   "cell_type": "code",
   "execution_count": 32,
   "metadata": {},
   "outputs": [
    {
     "name": "stdout",
     "output_type": "stream",
     "text": [
      "Loading library list...\n",
      "Done\n"
     ]
    },
    {
     "data": {
      "text/plain": [
       "['_eq_2_bm_',\n",
       " 'bdxcrspcomplink',\n",
       " 'bdxinslink',\n",
       " 'boardex_trinsider',\n",
       " 'boardex_trinsider_link',\n",
       " 'bondcrsp_link',\n",
       " 'bondret',\n",
       " 'chars',\n",
       " 'compeushortlink',\n",
       " 'country',\n",
       " 'crspm',\n",
       " 'ds2ws_linktable',\n",
       " 'dswslink',\n",
       " 'dwcountryreturns',\n",
       " 'eushort',\n",
       " 'exec_boardex',\n",
       " 'exec_boardex_link',\n",
       " 'exec_ciq',\n",
       " 'exec_ciq_link',\n",
       " 'firm_ratio',\n",
       " 'firm_ratio_ccm',\n",
       " 'firm_ratio_ibes',\n",
       " 'firm_ratio_ibes_ccm',\n",
       " 'fscrsplink',\n",
       " 'ibcrsphist',\n",
       " 'id',\n",
       " 'id_ccm',\n",
       " 'id_ibes',\n",
       " 'id_ibes_ccm',\n",
       " 'mastertable',\n",
       " 'motherfile',\n",
       " 'mwcountryreturns',\n",
       " 'opcrsphist',\n",
       " 'price',\n",
       " 'price_202005',\n",
       " 'price_202006',\n",
       " 'price_202007',\n",
       " 'price_202008',\n",
       " 'price_202009',\n",
       " 'price_202010',\n",
       " 'price_202011',\n",
       " 'price_202012',\n",
       " 'price_pre',\n",
       " 'promo',\n",
       " 'promo_20200501',\n",
       " 'promo_20200502',\n",
       " 'promo_20200503',\n",
       " 'promo_20200504',\n",
       " 'promo_20200505',\n",
       " 'promo_20200506',\n",
       " 'promo_20200507',\n",
       " 'promo_20200508',\n",
       " 'promo_20200509',\n",
       " 'promo_20200510',\n",
       " 'promo_20200511',\n",
       " 'promo_20200512',\n",
       " 'promo_20200513',\n",
       " 'promo_20200514',\n",
       " 'promo_20200515',\n",
       " 'promo_20200516',\n",
       " 'promo_20200517',\n",
       " 'promo_20200518',\n",
       " 'promo_20200519',\n",
       " 'promo_20200520',\n",
       " 'promo_20200521',\n",
       " 'promo_20200522',\n",
       " 'promo_20200523',\n",
       " 'promo_20200524',\n",
       " 'promo_20200525',\n",
       " 'promo_20200526',\n",
       " 'promo_20200527',\n",
       " 'promo_20200528',\n",
       " 'promo_20200529',\n",
       " 'promo_20200530',\n",
       " 'promo_20200531',\n",
       " 'promo_20200601',\n",
       " 'promo_20200602',\n",
       " 'promo_20200603',\n",
       " 'promo_20200604',\n",
       " 'promo_20200605',\n",
       " 'promo_20200606',\n",
       " 'promo_20200607',\n",
       " 'promo_20200608',\n",
       " 'promo_20200609',\n",
       " 'promo_20200610',\n",
       " 'promo_20200611',\n",
       " 'promo_20200612',\n",
       " 'promo_20200613',\n",
       " 'promo_20200614',\n",
       " 'promo_20200615',\n",
       " 'promo_20200616',\n",
       " 'promo_20200617',\n",
       " 'promo_20200618',\n",
       " 'promo_20200619',\n",
       " 'promo_20200620',\n",
       " 'promo_20200621',\n",
       " 'promo_20200622',\n",
       " 'promo_20200623',\n",
       " 'promo_20200624',\n",
       " 'promo_20200625',\n",
       " 'promo_20200626',\n",
       " 'promo_20200627',\n",
       " 'promo_20200628',\n",
       " 'promo_20200629',\n",
       " 'promo_20200630',\n",
       " 'promo_20200701',\n",
       " 'promo_20200702',\n",
       " 'promo_20200703',\n",
       " 'promo_20200704',\n",
       " 'promo_20200705',\n",
       " 'promo_20200706',\n",
       " 'promo_20200707',\n",
       " 'promo_20200708',\n",
       " 'promo_20200709',\n",
       " 'promo_20200710',\n",
       " 'promo_20200711',\n",
       " 'promo_20200712',\n",
       " 'promo_20200713',\n",
       " 'promo_20200714',\n",
       " 'promo_20200715',\n",
       " 'promo_20200716',\n",
       " 'promo_20200717',\n",
       " 'promo_20200718',\n",
       " 'promo_20200719',\n",
       " 'promo_20200720',\n",
       " 'promo_20200721',\n",
       " 'promo_20200722',\n",
       " 'promo_20200723',\n",
       " 'promo_20200724',\n",
       " 'promo_20200725',\n",
       " 'promo_20200726',\n",
       " 'promo_20200727',\n",
       " 'promo_20200728',\n",
       " 'promo_20200729',\n",
       " 'promo_20200730',\n",
       " 'promo_20200731',\n",
       " 'promo_20200801',\n",
       " 'promo_20200802',\n",
       " 'promo_20200803',\n",
       " 'promo_20200804',\n",
       " 'promo_20200805',\n",
       " 'promo_20200806',\n",
       " 'promo_20200807',\n",
       " 'promo_20200808',\n",
       " 'promo_20200809',\n",
       " 'promo_20200810',\n",
       " 'promo_20200811',\n",
       " 'promo_20200812',\n",
       " 'promo_20200813',\n",
       " 'promo_20200814',\n",
       " 'promo_20200815',\n",
       " 'promo_20200816',\n",
       " 'promo_20200817',\n",
       " 'promo_20200818',\n",
       " 'promo_20200819',\n",
       " 'promo_20200820',\n",
       " 'promo_20200821',\n",
       " 'promo_20200822',\n",
       " 'promo_20200823',\n",
       " 'promo_20200824',\n",
       " 'promo_20200825',\n",
       " 'promo_20200826',\n",
       " 'promo_20200827',\n",
       " 'promo_20200828',\n",
       " 'promo_20200829',\n",
       " 'promo_20200830',\n",
       " 'promo_20200831',\n",
       " 'promo_20200901',\n",
       " 'promo_20200902',\n",
       " 'promo_20200903',\n",
       " 'promo_20200904',\n",
       " 'promo_20200905',\n",
       " 'promo_20200906',\n",
       " 'promo_20200907',\n",
       " 'promo_20200908',\n",
       " 'promo_20200909',\n",
       " 'promo_20200910',\n",
       " 'promo_20200911',\n",
       " 'promo_20200912',\n",
       " 'promo_20200913',\n",
       " 'promo_20200914',\n",
       " 'promo_20200915',\n",
       " 'promo_20200916',\n",
       " 'promo_20200917',\n",
       " 'promo_20200918',\n",
       " 'promo_20200919',\n",
       " 'promo_20200920',\n",
       " 'promo_20200921',\n",
       " 'promo_20200922',\n",
       " 'promo_20200923',\n",
       " 'promo_20200924',\n",
       " 'promo_20200925',\n",
       " 'promo_20200926',\n",
       " 'promo_20200927',\n",
       " 'promo_20200928',\n",
       " 'promo_20200929',\n",
       " 'promo_20200930',\n",
       " 'promo_20201001',\n",
       " 'promo_20201002',\n",
       " 'promo_20201003',\n",
       " 'promo_20201004',\n",
       " 'promo_20201005',\n",
       " 'promo_20201006',\n",
       " 'promo_20201007',\n",
       " 'promo_20201008',\n",
       " 'promo_20201009',\n",
       " 'promo_20201010',\n",
       " 'promo_20201011',\n",
       " 'promo_20201012',\n",
       " 'promo_20201013',\n",
       " 'promo_20201014',\n",
       " 'promo_20201015',\n",
       " 'promo_20201016',\n",
       " 'promo_20201017',\n",
       " 'promo_20201018',\n",
       " 'promo_20201019',\n",
       " 'promo_20201020',\n",
       " 'promo_20201021',\n",
       " 'promo_20201022',\n",
       " 'promo_20201023',\n",
       " 'promo_20201024',\n",
       " 'promo_20201025',\n",
       " 'promo_20201026',\n",
       " 'promo_20201027',\n",
       " 'promo_20201028',\n",
       " 'promo_20201029',\n",
       " 'promo_20201030',\n",
       " 'promo_20201031',\n",
       " 'promo_20201101',\n",
       " 'promo_20201102',\n",
       " 'promo_20201103',\n",
       " 'promo_20201104',\n",
       " 'promo_20201105',\n",
       " 'promo_20201106',\n",
       " 'promo_20201107',\n",
       " 'promo_20201108',\n",
       " 'promo_20201109',\n",
       " 'promo_20201110',\n",
       " 'promo_20201111',\n",
       " 'promo_20201112',\n",
       " 'promo_20201113',\n",
       " 'promo_20201114',\n",
       " 'promo_20201115',\n",
       " 'promo_20201116',\n",
       " 'promo_20201117',\n",
       " 'promo_20201118',\n",
       " 'promo_20201119',\n",
       " 'promo_20201120',\n",
       " 'promo_20201121',\n",
       " 'promo_20201122',\n",
       " 'promo_20201123',\n",
       " 'promo_20201124',\n",
       " 'promo_20201125',\n",
       " 'promo_20201126',\n",
       " 'promo_20201127',\n",
       " 'promo_20201128',\n",
       " 'promo_20201129',\n",
       " 'promo_20201130',\n",
       " 'promo_20201201',\n",
       " 'promo_20201202',\n",
       " 'promo_20201203',\n",
       " 'promo_20201204',\n",
       " 'promo_20201205',\n",
       " 'promo_20201206',\n",
       " 'promo_20201207',\n",
       " 'promo_20201208',\n",
       " 'promo_20201209',\n",
       " 'promo_20201210',\n",
       " 'promo_20201211',\n",
       " 'promo_20201212',\n",
       " 'promo_20201213',\n",
       " 'promo_20201214',\n",
       " 'promo_20201215',\n",
       " 'promo_20201216',\n",
       " 'promo_20201217',\n",
       " 'promo_20201218',\n",
       " 'promo_20201219',\n",
       " 'promo_20201220',\n",
       " 'promo_20201221',\n",
       " 'promo_20201222',\n",
       " 'promo_20201223',\n",
       " 'promo_20201224',\n",
       " 'promo_20201225',\n",
       " 'promo_20201226',\n",
       " 'promo_20201227',\n",
       " 'promo_20201228',\n",
       " 'promo_20201229',\n",
       " 'promo_20201230',\n",
       " 'promo_20201231',\n",
       " 'promo_pre',\n",
       " 'rpevts',\n",
       " 'seed_20180418',\n",
       " 'seglink',\n",
       " 'signals_raw_basic',\n",
       " 'signals_raw_plus',\n",
       " 'stores',\n",
       " 'taqmclink',\n",
       " 'taqmclink_cusip_2010',\n",
       " 'tclink',\n",
       " 'trinsider_ciq',\n",
       " 'trinsider_ciq_link',\n",
       " 'usage',\n",
       " 'usage_pg',\n",
       " 'usage_va',\n",
       " 'uspatents_citations',\n",
       " 'uspatents_gvkey_linking',\n",
       " 'uspatents_meta',\n",
       " 'wcountryconstituents',\n",
       " 'wrds_relationships']"
      ]
     },
     "execution_count": 32,
     "metadata": {},
     "output_type": "execute_result"
    }
   ],
   "source": [
    "conn = wrds.Connection(wrds_username=WRDS_USERNAME)\n",
    "conn.list_tables(library=\"wrdsapps\")"
   ]
  },
  {
   "cell_type": "code",
   "execution_count": 34,
   "metadata": {},
   "outputs": [
    {
     "data": {
      "text/html": [
       "<div>\n",
       "<style scoped>\n",
       "    .dataframe tbody tr th:only-of-type {\n",
       "        vertical-align: middle;\n",
       "    }\n",
       "\n",
       "    .dataframe tbody tr th {\n",
       "        vertical-align: top;\n",
       "    }\n",
       "\n",
       "    .dataframe thead th {\n",
       "        text-align: right;\n",
       "    }\n",
       "</style>\n",
       "<table border=\"1\" class=\"dataframe\">\n",
       "  <thead>\n",
       "    <tr style=\"text-align: right;\">\n",
       "      <th></th>\n",
       "      <th>secid</th>\n",
       "      <th>sdate</th>\n",
       "      <th>edate</th>\n",
       "      <th>permno</th>\n",
       "      <th>score</th>\n",
       "    </tr>\n",
       "  </thead>\n",
       "  <tbody>\n",
       "    <tr>\n",
       "      <th>0</th>\n",
       "      <td>5001.0</td>\n",
       "      <td>1996-01-02</td>\n",
       "      <td>1996-03-13</td>\n",
       "      <td>10074.0</td>\n",
       "      <td>1.0</td>\n",
       "    </tr>\n",
       "    <tr>\n",
       "      <th>1</th>\n",
       "      <td>5002.0</td>\n",
       "      <td>1996-01-01</td>\n",
       "      <td>1996-02-22</td>\n",
       "      <td>10154.0</td>\n",
       "      <td>1.0</td>\n",
       "    </tr>\n",
       "    <tr>\n",
       "      <th>2</th>\n",
       "      <td>5003.0</td>\n",
       "      <td>None</td>\n",
       "      <td>None</td>\n",
       "      <td>NaN</td>\n",
       "      <td>6.0</td>\n",
       "    </tr>\n",
       "    <tr>\n",
       "      <th>3</th>\n",
       "      <td>5004.0</td>\n",
       "      <td>1996-01-01</td>\n",
       "      <td>2000-01-27</td>\n",
       "      <td>80071.0</td>\n",
       "      <td>1.0</td>\n",
       "    </tr>\n",
       "    <tr>\n",
       "      <th>4</th>\n",
       "      <td>5005.0</td>\n",
       "      <td>1996-01-01</td>\n",
       "      <td>1997-08-12</td>\n",
       "      <td>85041.0</td>\n",
       "      <td>1.0</td>\n",
       "    </tr>\n",
       "  </tbody>\n",
       "</table>\n",
       "</div>"
      ],
      "text/plain": [
       "    secid       sdate       edate   permno  score\n",
       "0  5001.0  1996-01-02  1996-03-13  10074.0    1.0\n",
       "1  5002.0  1996-01-01  1996-02-22  10154.0    1.0\n",
       "2  5003.0        None        None      NaN    6.0\n",
       "3  5004.0  1996-01-01  2000-01-27  80071.0    1.0\n",
       "4  5005.0  1996-01-01  1997-08-12  85041.0    1.0"
      ]
     },
     "execution_count": 34,
     "metadata": {},
     "output_type": "execute_result"
    }
   ],
   "source": [
    "conn.get_table(library=\"wrdsapps\", table=\"opcrsphist\", obs=5)"
   ]
  },
  {
   "cell_type": "code",
   "execution_count": 41,
   "metadata": {},
   "outputs": [],
   "source": [
    "stdop = conn.get_table(library=\"optionm_all\", table=\"stdopd1996\")"
   ]
  },
  {
   "cell_type": "code",
   "execution_count": 42,
   "metadata": {},
   "outputs": [],
   "source": [
    "stdop = stdop.loc[stdop['secid']==108105]"
   ]
  },
  {
   "cell_type": "code",
   "execution_count": null,
   "metadata": {},
   "outputs": [],
   "source": [
    "df = pull_Option_info(\"hholt\")"
   ]
  },
  {
   "cell_type": "code",
   "execution_count": null,
   "metadata": {},
   "outputs": [],
   "source": []
  },
  {
   "cell_type": "code",
   "execution_count": null,
   "metadata": {},
   "outputs": [],
   "source": [
    "opinfd.loc[opinfd['secid']==108105]"
   ]
  },
  {
   "cell_type": "code",
   "execution_count": null,
   "metadata": {},
   "outputs": [],
   "source": [
    "df.head()"
   ]
  },
  {
   "cell_type": "code",
   "execution_count": null,
   "metadata": {},
   "outputs": [],
   "source": [
    "dup_cols = ['cp_flag','strike_price']\n",
    "\n",
    "duplicates = df[df.duplicated(subset=dup_cols, keep=False)]\n"
   ]
  },
  {
   "cell_type": "code",
   "execution_count": null,
   "metadata": {},
   "outputs": [],
   "source": [
    "duplicates.head()"
   ]
  },
  {
   "cell_type": "code",
   "execution_count": null,
   "metadata": {},
   "outputs": [],
   "source": []
  }
 ],
 "metadata": {
  "kernelspec": {
   "display_name": "finm",
   "language": "python",
   "name": "python3"
  },
  "language_info": {
   "codemirror_mode": {
    "name": "ipython",
    "version": 3
   },
   "file_extension": ".py",
   "mimetype": "text/x-python",
   "name": "python",
   "nbconvert_exporter": "python",
   "pygments_lexer": "ipython3",
   "version": "3.12.1"
  }
 },
 "nbformat": 4,
 "nbformat_minor": 2
}
