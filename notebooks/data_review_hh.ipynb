{
 "cells": [
  {
   "cell_type": "code",
   "execution_count": 1,
   "metadata": {},
   "outputs": [],
   "source": [
    "import wrds\n",
    "import pandas as pd\n",
    "pd.set_option('display.max_columns', None)\n",
    "pd.set_option('display.max_rows', None)\n",
    "\n",
    "import os\n",
    "import sys\n",
    "sys.path.insert(1, '../src/')\n",
    "from pathlib import Path\n",
    "import load_option_data_01 as l1\n",
    "import filter_option_data_01 as f1\n",
    "import bsm_pricer as bsm\n",
    "import config\n",
    "WRDS_USERNAME = Path(config.WRDS_USERNAME)\n",
    "DATA_DIR = Path(config.DATA_DIR)"
   ]
  },
  {
   "cell_type": "code",
   "execution_count": 3,
   "metadata": {},
   "outputs": [],
   "source": [
    "def pull_option_price(wrds_username, year=2012): \n",
    "\tdb = wrds.Connection(wrds_username=wrds_username)\n",
    "\n",
    "\tsql_query = f\"\"\"\n",
    "\t\t\t\t\tSELECT \n",
    "\t\t\t\t\t\t*\n",
    "\t\t\t\t\tFROM\n",
    "\t\t\t\t\t\toptionm_all.opprcd{year} AS a\n",
    "\t\t\t\t\tWHERE\n",
    "\t\t\t\t\t\ta.secid=108105;\n",
    "\t\t\t\t\"\"\"\n",
    "\t\t\n",
    "\toptm_df = db.raw_sql(sql_query, date_cols = [\"date\"])\n",
    "\n",
    "\tdb.close()\n",
    "\n",
    "\treturn optm_df\n",
    "\n",
    "def pull_all_option_price(wrds_username, last_year=2012): \n",
    "\tdb = wrds.Connection(wrds_username=wrds_username)\n",
    "\n",
    "\toptm_df = []\n",
    "\n",
    "\tfor year in range(1996,last_year+1):\n",
    "\t\tsql_query = f\"\"\"\n",
    "\t\t\t\t\t\tSELECT \n",
    "\t\t\t\t\t\t\ta.date, a.exdate, a.cp_flag, a.strike_price\n",
    "\t\t\t\t\t\tFROM\n",
    "\t\t\t\t\t\t\toptionm_all.opprcd{year} AS a\n",
    "\t\t\t\t\t\tWHERE\n",
    "\t\t\t\t\t\t\ta.secid=108105;\n",
    "\t\t\t\t\t\"\"\"\n",
    "\t\t\n",
    "\t\toptm = db.raw_sql(sql_query, date_cols = [\"date\"])\n",
    "\n",
    "\t\toptm_df.append(optm)\n",
    "\t\t\n",
    "\tdb.close()\n",
    "\n",
    "\toptm_df = pd.concat(optm_df)\n",
    "\t\n",
    "\treturn optm_df\n",
    "\n",
    "\n",
    "def pull_all_req_data(wrds_username, start_year=1996, end_year=2012): \n",
    "\tdb = wrds.Connection(wrds_username=wrds_username)\n",
    "\n",
    "\toptm_df = []\n",
    "\n",
    "\tfor year in range(start_year, end_year+1):\n",
    "\t\tsql_query = f\"\"\"\n",
    "\t\t\t\t\t\tSELECT \n",
    "\t\t\t\t\t\t\ta.date, a.exdate, a.cp_flag, a.strike_price, a.best_bid, a.best_offer,a.volume,\n",
    "\t\t\t\t\t\t\tb.open, b.close, a.impl_volatility, c.tb_m3\n",
    "\t\t\t\t\t\tFROM\n",
    "\t\t\t\t\t\t\toptionm_all.opprcd{year} AS a\n",
    "\t\t\t\t\t\tJOIN \n",
    "\t\t\t\t\t\t\toptionm_all.secprd{year} AS b ON a.date = b.date AND a.secid = b.secid\n",
    "\t\t\t\t\t\tJOIN \n",
    "\t\t\t\t\t\t\tfrb_all.rates_daily AS c ON c.date = a.date \n",
    "\t\t\t\t\t\tWHERE\n",
    "\t\t\t\t\t\t\ta.secid=108105 AND a.date <= '2012-01-31';\n",
    "\t\t\t\t\t\"\"\"\n",
    "\t\t\n",
    "\t\toptm = db.raw_sql(sql_query, date_cols = [\"date\"])\n",
    "\n",
    "\t\toptm_df.append(optm)\n",
    "\t\t\n",
    "\tdb.close()\n",
    "\n",
    "\toptm_df = pd.concat(optm_df)\n",
    "\t\n",
    "\treturn optm_df\n",
    "\n",
    "def pull_Opt_Sec_info_WRDS(wrds_username = WRDS_USERNAME, start = '1996-01-04', end = '2012-01-31'): \n",
    "\t#https://wrds-www.wharton.upenn.edu/pages/get-data/option-suite-wrds/us-option-level-output/\n",
    "\tsql_query = f\"\"\"\n",
    "\t\tSELECT  \n",
    "\t\t\ta.*, c.tb_m3\n",
    "\t\tFROM\n",
    "\t\t\tbeta.wrdsapps_optionsig  AS a\n",
    "\t\tJOIN \n",
    "\t\t\tfrb_all.rates_daily AS c ON c.date = a.date \n",
    "\t\tWHERE\n",
    "\t\t\t(a.secid = 108105) \n",
    "\t\tAND \n",
    "\t\t\t(a.date <= \\'{end}\\') \n",
    "\t\tAND \n",
    "\t\t\t(a.date >= \\'{start}\\')\n",
    "\t\tLIMIT 1000\n",
    "\t\"\"\" \n",
    "\t#LIMIT 1000\n",
    "\tdb = wrds.Connection(wrds_username=wrds_username)\n",
    "\toptm = db.raw_sql(sql_query, date_cols = [\"date\", \"exdate\"])\n",
    "\tdb.close()\n",
    "\treturn optm"
   ]
  },
  {
   "cell_type": "code",
   "execution_count": 2,
   "metadata": {},
   "outputs": [],
   "source": [
    "optm_df = pd.read_parquet(DATA_DIR / \"pulled\" / \"data_1996-01_2012-01.parquet\")\n",
    "# optm_df = pd.read_parquet(DATA_DIR / \"pulled\" / \"data_2012-02_2023-12.parquet\")"
   ]
  },
  {
   "cell_type": "code",
   "execution_count": 7,
   "metadata": {},
   "outputs": [
    {
     "data": {
      "text/plain": [
       "<Axes: xlabel='date'>"
      ]
     },
     "execution_count": 7,
     "metadata": {},
     "output_type": "execute_result"
    },
    {
     "data": {
      "image/png": "[encoded data removed]",
      "text/plain": [
       "<Figure size 640x480 with 1 Axes>"
      ]
     },
     "metadata": {},
     "output_type": "display_data"
    }
   ],
   "source": [
    "optm_df['date'].dt.year.value_counts().sort_index().plot(kind='bar')"
   ]
  },
  {
   "cell_type": "code",
   "execution_count": 4,
   "metadata": {},
   "outputs": [
    {
     "name": "stdout",
     "output_type": "stream",
     "text": [
      "(3410580, 14)\n",
      "{'P': 1706360, 'C': 1704220}\n"
     ]
    }
   ],
   "source": [
    "print(optm_df.shape)\n",
    "print(optm_df['cp_flag'].value_counts().to_dict())"
   ]
  },
  {
   "cell_type": "code",
   "execution_count": 5,
   "metadata": {},
   "outputs": [],
   "source": [
    "optm_df['option_price'] = (optm_df['best_bid'] + optm_df['best_offer'])/2\n",
    "optm_df['index_price'] = (optm_df['open'] + optm_df['close'])/2"
   ]
  },
  {
   "cell_type": "markdown",
   "metadata": {},
   "source": [
    "### Level 1 filters"
   ]
  },
  {
   "cell_type": "markdown",
   "metadata": {},
   "source": [
    "#### Identical Filter:\n",
    "The OptionMetrics data set contain duplicate observations,\n",
    "defined as two or more quotes with identical option type, strike, expiration\n",
    "date, and price. In each such case, we eliminate all but one of the quotes."
   ]
  },
  {
   "cell_type": "code",
   "execution_count": 5,
   "metadata": {},
   "outputs": [],
   "source": [
    "# Assuming 'df' is your DataFrame\n",
    "\n",
    "def delete_identical_filter(df):\n",
    "    columns_to_check = ['cp_flag', 'strike_price','date', 'exdate', 'best_offer']\n",
    "\n",
    "    # Drop duplicates based on specified columns\n",
    "    df = df.drop_duplicates(subset=columns_to_check, keep='first')\n",
    "\n",
    "    return df"
   ]
  },
  {
   "cell_type": "code",
   "execution_count": null,
   "metadata": {},
   "outputs": [],
   "source": []
  },
  {
   "cell_type": "code",
   "execution_count": 17,
   "metadata": {},
   "outputs": [
    {
     "data": {
      "text/plain": [
       "(3138492, 16)"
      ]
     },
     "execution_count": 17,
     "metadata": {},
     "output_type": "execute_result"
    }
   ],
   "source": [
    "optm_l1_df = pd.read_parquet(DATA_DIR / \"pulled\" / 'data_199601_201201_L1filter.parquet')\n",
    "optm_l1_df.shape"
   ]
  },
  {
   "cell_type": "code",
   "execution_count": 18,
   "metadata": {},
   "outputs": [
    {
     "data": {
      "text/plain": [
       "272088"
      ]
     },
     "execution_count": 18,
     "metadata": {},
     "output_type": "execute_result"
    }
   ],
   "source": [
    "optm_df.shape[0] - optm_l1_df.shape[0]"
   ]
  },
  {
   "cell_type": "markdown",
   "metadata": {},
   "source": [
    "#### Identical Except Price Filter:\n",
    "There are a few sets of quotes with identical\n",
    "terms (type, strike, and maturity) but different prices. When this occurs, we\n",
    "keep the quote whose T-bill-based implied volatility is closest to that of its\n",
    "moneyness neighbors, and delete the others.\n",
    "\n",
    "NEXT STEPS - determine moneyness neighbors >> only 18 duplicates so 9 deleted versus 11 in paper"
   ]
  },
  {
   "cell_type": "code",
   "execution_count": 198,
   "metadata": {},
   "outputs": [],
   "source": [
    "def delete_identical_xprice_filter(df):\n",
    "    columns_to_check = ['cp_flag', 'strike_price','date', 'exdate']\n",
    "\n",
    "    # Drop duplicates based on specified columns\n",
    "    df = df.drop_duplicates(subset=columns_to_check, keep='first')\n",
    "\n",
    "    return df"
   ]
  },
  {
   "cell_type": "code",
   "execution_count": 199,
   "metadata": {},
   "outputs": [
    {
     "data": {
      "text/plain": [
       "(20, 16)"
      ]
     },
     "execution_count": 199,
     "metadata": {},
     "output_type": "execute_result"
    }
   ],
   "source": [
    "columns_to_check = ['cp_flag', 'strike_price','date', 'exdate']\n",
    "\n",
    "identical_df = optm_l1_df[optm_l1_df.duplicated(columns_to_check,keep=False)].sort_values(columns_to_check)\n",
    "\n",
    "identical_df.shape"
   ]
  },
  {
   "cell_type": "code",
   "execution_count": 200,
   "metadata": {},
   "outputs": [
    {
     "data": {
      "text/plain": [
       "(10, 16)"
      ]
     },
     "execution_count": 200,
     "metadata": {},
     "output_type": "execute_result"
    }
   ],
   "source": [
    "identical_df = optm_l1_df[optm_l1_df.duplicated(columns_to_check,keep='first')].sort_values(columns_to_check)\n",
    "identical_df.shape"
   ]
  },
  {
   "cell_type": "code",
   "execution_count": 201,
   "metadata": {},
   "outputs": [
    {
     "name": "stdout",
     "output_type": "stream",
     "text": [
      "(3410570, 16)\n"
     ]
    }
   ],
   "source": [
    "optm_l1_df = delete_identical_xprice_filter(optm_l1_df)\n",
    "print(optm_l1_df.shape)"
   ]
  },
  {
   "cell_type": "code",
   "execution_count": 202,
   "metadata": {},
   "outputs": [],
   "source": [
    "def delete_zero_bid(df):\n",
    "    df=df.loc[df['best_bid'] > 0]\n",
    "    return df"
   ]
  },
  {
   "cell_type": "code",
   "execution_count": 203,
   "metadata": {},
   "outputs": [],
   "source": [
    "optm_l1_df = delete_zero_bid(optm_l1_df)"
   ]
  },
  {
   "cell_type": "code",
   "execution_count": 204,
   "metadata": {},
   "outputs": [
    {
     "data": {
      "text/plain": [
       "272088"
      ]
     },
     "execution_count": 204,
     "metadata": {},
     "output_type": "execute_result"
    }
   ],
   "source": [
    "optm_df.shape[0] - optm_l1_df.shape[0]"
   ]
  },
  {
   "cell_type": "code",
   "execution_count": 205,
   "metadata": {},
   "outputs": [
    {
     "data": {
      "text/plain": [
       "3138492"
      ]
     },
     "execution_count": 205,
     "metadata": {},
     "output_type": "execute_result"
    }
   ],
   "source": [
    "optm_l1_df.shape[0]"
   ]
  },
  {
   "cell_type": "markdown",
   "metadata": {},
   "source": [
    "### Level 2 filters\n",
    "* “Days to Maturity <7 or >180” Filter\n",
    "* “IV<5% or >100%” Filter\n",
    "* “Moneyness <0.8 or >1.2” Filter\n",
    "* “Implied Interest Rate <0” Filter"
   ]
  },
  {
   "cell_type": "code",
   "execution_count": 19,
   "metadata": {},
   "outputs": [],
   "source": [
    "def clear_module_cache(module_name):\n",
    "    if module_name in sys.modules:\n",
    "        del sys.modules[module_name]"
   ]
  },
  {
   "cell_type": "code",
   "execution_count": 34,
   "metadata": {},
   "outputs": [],
   "source": [
    "clear_module_cache('filter_option_data_01')\n",
    "import filter_option_data_02 as f2\n",
    "import filter_option_data_01 as f1"
   ]
  },
  {
   "cell_type": "code",
   "execution_count": 21,
   "metadata": {},
   "outputs": [],
   "source": [
    "# optm_l2_df = pd.read_parquet(DATA_DIR / 'pulled' / 'data_199601_201201_L2filter.parquet')"
   ]
  },
  {
   "cell_type": "code",
   "execution_count": 24,
   "metadata": {},
   "outputs": [],
   "source": [
    "optm_l2_df = optm_l1_df.copy()\n",
    "optm_l2_df['tb_m3'] = optm_l2_df['tb_m3'].ffill()"
   ]
  },
  {
   "cell_type": "code",
   "execution_count": 25,
   "metadata": {},
   "outputs": [
    {
     "data": {
      "text/plain": [
       "(1840763, 18)"
      ]
     },
     "execution_count": 25,
     "metadata": {},
     "output_type": "execute_result"
    }
   ],
   "source": [
    "optm_l2_df = f2.filter_time_to_maturity(optm_l2_df)\n",
    "optm_l2_df.shape"
   ]
  },
  {
   "cell_type": "code",
   "execution_count": 26,
   "metadata": {},
   "outputs": [
    {
     "data": {
      "text/plain": [
       "16432"
      ]
     },
     "execution_count": 26,
     "metadata": {},
     "output_type": "execute_result"
    }
   ],
   "source": [
    "optm_l2_df.shape[0] - optm_l2_df.loc[((optm_l2_df['impl_volatility']>=0.05) & (optm_l2_df['impl_volatility']<=1)) | (optm_l2_df['impl_volatility'].isna())].shape[0]"
   ]
  },
  {
   "cell_type": "code",
   "execution_count": 23,
   "metadata": {},
   "outputs": [],
   "source": [
    "clear_module_cache('bsm_pricer')\n",
    "import bsm_pricer as bsm"
   ]
  },
  {
   "cell_type": "code",
   "execution_count": 46,
   "metadata": {},
   "outputs": [],
   "source": [
    "optm_l2_df['iv_guess'] = optm_l2_df['impl_volatility'].fillna(optm_l2_df['tb_m3'])\n"
   ]
  },
  {
   "cell_type": "code",
   "execution_count": 56,
   "metadata": {},
   "outputs": [
    {
     "data": {
      "text/plain": [
       "1e-16"
      ]
     },
     "execution_count": 56,
     "metadata": {},
     "output_type": "execute_result"
    }
   ],
   "source": [
    "bsm.calc_implied_volatility(test['best_bid'], test['sec_price'], test['strike_price'], test['time_to_matility_yrs'], test['tb_m3'], test['cp_flag'], initial_guess=test['iv_guess'])"
   ]
  },
  {
   "cell_type": "code",
   "execution_count": 74,
   "metadata": {},
   "outputs": [],
   "source": [
    "def calc_implied_volatility_wrapper(row):\n",
    "    try:\n",
    "        implied_volatility = bsm.calc_implied_volatility(row['best_bid'], row['sec_price'], row['strike_price'], row['time_to_matility_yrs'], row['tb_m3'], row['cp_flag'], initial_guess=row['iv_guess'])\n",
    "        print(f\"Implied Volatility {row.name}: {implied_volatility}\")\n",
    "        return implied_volatility\n",
    "    except ValueError as e:\n",
    "        # Handle the error as per your requirement, you can print the error or return a default value\n",
    "        print(f\"Error for row {row.name}: {e}\")\n",
    "        return 0"
   ]
  },
  {
   "cell_type": "code",
   "execution_count": null,
   "metadata": {},
   "outputs": [],
   "source": [
    "optm_l2_df['impl_vol_bsm'] = optm_l2_df.apply(calc_implied_volatility_wrapper, axis=1)"
   ]
  },
  {
   "cell_type": "code",
   "execution_count": 83,
   "metadata": {},
   "outputs": [],
   "source": [
    "iv_len = optm_l2_df.loc[(optm_l2_df['impl_volatility']>=0.05) & (optm_l2_df['impl_volatility']<=1.00)].shape[0]"
   ]
  },
  {
   "cell_type": "code",
   "execution_count": 29,
   "metadata": {},
   "outputs": [
    {
     "data": {
      "text/plain": [
       "1274299"
      ]
     },
     "execution_count": 29,
     "metadata": {},
     "output_type": "execute_result"
    }
   ],
   "source": [
    "optm_l2_df = f2.filter_moneyness(optm_l2_df)\n",
    "optm_l2_df.shape[0]"
   ]
  },
  {
   "cell_type": "code",
   "execution_count": 38,
   "metadata": {},
   "outputs": [
    {
     "name": "stdout",
     "output_type": "stream",
     "text": [
      "Reading from file: C:\\Users\\harri\\repos\\finm-32900_final_project\\data\\pulled\\data_1996-01_2012-01.parquet\n",
      "Loading Data took 0.5 seconds\n",
      "3410580\n",
      "3138492\n"
     ]
    }
   ],
   "source": [
    "df = l1.load_all_optm_data(DATA_DIR)\n",
    "print(df.shape[0])\n",
    "optm_l1_df = f1.appendixBfilter_level1(df)[0]\n",
    "print(optm_l1_df.shape[0])"
   ]
  },
  {
   "cell_type": "code",
   "execution_count": 42,
   "metadata": {},
   "outputs": [
    {
     "data": {
      "text/plain": [
       "1274104"
      ]
     },
     "execution_count": 42,
     "metadata": {},
     "output_type": "execute_result"
    }
   ],
   "source": [
    "optm_l2_df = f2.filter_time_to_maturity(optm_l1_df)\n",
    "optm_l2_df = f2.filter_iv(optm_l2_df)\n",
    "optm_l2_df = f2.filter_moneyness(optm_l2_df)\n",
    "optm_l2_df.shape[0]"
   ]
  },
  {
   "cell_type": "code",
   "execution_count": 44,
   "metadata": {},
   "outputs": [
    {
     "data": {
      "text/plain": [
       "1076774"
      ]
     },
     "execution_count": 44,
     "metadata": {},
     "output_type": "execute_result"
    }
   ],
   "source": [
    "3138336-1297634-12676-553947-177246-20059"
   ]
  }
 ],
 "metadata": {
  "kernelspec": {
   "display_name": "finm",
   "language": "python",
   "name": "python3"
  },
  "language_info": {
   "codemirror_mode": {
    "name": "ipython",
    "version": 3
   },
   "file_extension": ".py",
   "mimetype": "text/x-python",
   "name": "python",
   "nbconvert_exporter": "python",
   "pygments_lexer": "ipython3",
   "version": "3.12.1"
  }
 },
 "nbformat": 4,
 "nbformat_minor": 2
}
