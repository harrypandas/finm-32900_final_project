{
 "cells": [
  {
   "cell_type": "code",
   "execution_count": 1,
   "metadata": {},
   "outputs": [],
   "source": [
    "import wrds\n",
    "import pandas as pd\n",
    "pd.set_option('display.max_columns', None)\n",
    "pd.set_option('display.max_rows', None)\n",
    "\n",
    "import os\n",
    "import sys\n",
    "from pathlib import Path\n",
    "\n",
    "# add the src directory to the path in order to import config\n",
    "current_directory = Path.cwd()\n",
    "src_path = current_directory.parent / \"src\"\n",
    "sys.path.insert(0, str(src_path))\n",
    "\n",
    "import load_option_data_01 as l1\n",
    "import filter_option_data_01 as f1\n",
    "import config\n",
    "WRDS_USERNAME = Path(config.WRDS_USERNAME)\n",
    "DATA_DIR = Path(config.DATA_DIR)"
   ]
  },
  {
   "cell_type": "code",
   "execution_count": 2,
   "metadata": {},
   "outputs": [],
   "source": [
    "import bsm_pricer"
   ]
  },
  {
   "cell_type": "code",
   "execution_count": 4,
   "metadata": {},
   "outputs": [],
   "source": [
    "def pull_option_price(wrds_username, year=2012): \n",
    "\tdb = wrds.Connection(wrds_username=wrds_username)\n",
    "\n",
    "\tsql_query = f\"\"\"\n",
    "\t\t\t\t\tSELECT \n",
    "\t\t\t\t\t\t*\n",
    "\t\t\t\t\tFROM\n",
    "\t\t\t\t\t\toptionm_all.opprcd{year} AS a\n",
    "\t\t\t\t\tWHERE\n",
    "\t\t\t\t\t\ta.secid=108105;\n",
    "\t\t\t\t\"\"\"\n",
    "\t\t\n",
    "\toptm_df = db.raw_sql(sql_query, date_cols = [\"date\"])\n",
    "\n",
    "\tdb.close()\n",
    "\n",
    "\treturn optm_df\n",
    "\n",
    "def pull_all_option_price(wrds_username, last_year=2012): \n",
    "\tdb = wrds.Connection(wrds_username=wrds_username)\n",
    "\n",
    "\toptm_df = []\n",
    "\n",
    "\tfor year in range(1996,last_year+1):\n",
    "\t\tsql_query = f\"\"\"\n",
    "\t\t\t\t\t\tSELECT \n",
    "\t\t\t\t\t\t\ta.date, a.exdate, a.cp_flag, a.strike_price\n",
    "\t\t\t\t\t\tFROM\n",
    "\t\t\t\t\t\t\toptionm_all.opprcd{year} AS a\n",
    "\t\t\t\t\t\tWHERE\n",
    "\t\t\t\t\t\t\ta.secid=108105;\n",
    "\t\t\t\t\t\"\"\"\n",
    "\t\t\n",
    "\t\toptm = db.raw_sql(sql_query, date_cols = [\"date\"])\n",
    "\n",
    "\t\toptm_df.append(optm)\n",
    "\t\t\n",
    "\tdb.close()\n",
    "\n",
    "\toptm_df = pd.concat(optm_df)\n",
    "\t\n",
    "\treturn optm_df\n",
    "\n",
    "\n",
    "def pull_all_req_data(wrds_username, start_year=1996, end_year=2012): \n",
    "\tdb = wrds.Connection(wrds_username=wrds_username)\n",
    "\n",
    "\toptm_df = []\n",
    "\n",
    "\tfor year in range(start_year, end_year+1):\n",
    "\t\tsql_query = f\"\"\"\n",
    "\t\t\t\t\t\tSELECT \n",
    "\t\t\t\t\t\t\ta.date, a.exdate, a.cp_flag, a.strike_price, a.best_bid, a.best_offer,a.volume,\n",
    "\t\t\t\t\t\t\tb.open, b.close, a.impl_volatility, c.tb_m3\n",
    "\t\t\t\t\t\tFROM\n",
    "\t\t\t\t\t\t\toptionm_all.opprcd{year} AS a\n",
    "\t\t\t\t\t\tJOIN \n",
    "\t\t\t\t\t\t\toptionm_all.secprd{year} AS b ON a.date = b.date AND a.secid = b.secid\n",
    "\t\t\t\t\t\tJOIN \n",
    "\t\t\t\t\t\t\tfrb_all.rates_daily AS c ON c.date = a.date \n",
    "\t\t\t\t\t\tWHERE\n",
    "\t\t\t\t\t\t\ta.secid=108105 AND a.date <= '2012-01-31';\n",
    "\t\t\t\t\t\"\"\"\n",
    "\t\t\n",
    "\t\toptm = db.raw_sql(sql_query, date_cols = [\"date\"])\n",
    "\n",
    "\t\toptm_df.append(optm)\n",
    "\t\t\n",
    "\tdb.close()\n",
    "\n",
    "\toptm_df = pd.concat(optm_df)\n",
    "\t\n",
    "\treturn optm_df\n",
    "\n",
    "def pull_Opt_Sec_info_WRDS(wrds_username = WRDS_USERNAME, start = '1996-01-04', end = '2012-01-31'): \n",
    "\t#https://wrds-www.wharton.upenn.edu/pages/get-data/option-suite-wrds/us-option-level-output/\n",
    "\tsql_query = f\"\"\"\n",
    "\t\tSELECT  \n",
    "\t\t\ta.*, c.tb_m3\n",
    "\t\tFROM\n",
    "\t\t\tbeta.wrdsapps_optionsig  AS a\n",
    "\t\tJOIN \n",
    "\t\t\tfrb_all.rates_daily AS c ON c.date = a.date \n",
    "\t\tWHERE\n",
    "\t\t\t(a.secid = 108105) \n",
    "\t\tAND \n",
    "\t\t\t(a.date <= \\'{end}\\') \n",
    "\t\tAND \n",
    "\t\t\t(a.date >= \\'{start}\\')\n",
    "\t\tLIMIT 1000\n",
    "\t\"\"\" \n",
    "\t#LIMIT 1000\n",
    "\tdb = wrds.Connection(wrds_username=wrds_username)\n",
    "\toptm = db.raw_sql(sql_query, date_cols = [\"date\", \"exdate\"])\n",
    "\tdb.close()\n",
    "\treturn optm"
   ]
  },
  {
   "cell_type": "code",
   "execution_count": 3,
   "metadata": {},
   "outputs": [],
   "source": [
    "optm_df = l1.load_all_optm_data()"
   ]
  },
  {
   "cell_type": "code",
   "execution_count": 4,
   "metadata": {},
   "outputs": [
    {
     "name": "stdout",
     "output_type": "stream",
     "text": [
      "(3410580, 12)\n",
      "{'P': 1706360, 'C': 1704220}\n"
     ]
    }
   ],
   "source": [
    "print(optm_df.shape)\n",
    "print(optm_df['cp_flag'].value_counts().to_dict())"
   ]
  },
  {
   "cell_type": "code",
   "execution_count": 5,
   "metadata": {},
   "outputs": [],
   "source": [
    "optm_df['date'] = pd.to_datetime(optm_df['date'])\n",
    "optm_df['option_price'] = (optm_df['best_bid'] + optm_df['best_offer'])/2\n",
    "optm_df['index_price'] = (optm_df['open'] + optm_df['close'])/2\n",
    "optm_df['strike_price'] = optm_df['strike_price']/1000\n",
    "optm_df['tb_m3'] = optm_df['tb_m3']/100"
   ]
  },
  {
   "cell_type": "markdown",
   "metadata": {},
   "source": [
    "### Level 1 filters"
   ]
  },
  {
   "cell_type": "markdown",
   "metadata": {},
   "source": [
    "#### Identical Filter:\n",
    "The OptionMetrics data set contain duplicate observations,\n",
    "defined as two or more quotes with identical option type, strike, expiration\n",
    "date, and price. In each such case, we eliminate all but one of the quotes."
   ]
  },
  {
   "cell_type": "code",
   "execution_count": 6,
   "metadata": {},
   "outputs": [],
   "source": [
    "# Assuming 'df' is your DataFrame\n",
    "\n",
    "def delete_identical_filter(df):\n",
    "    columns_to_check = ['cp_flag', 'strike_price','date', 'exdate', 'best_offer']\n",
    "\n",
    "    # Drop duplicates based on specified columns\n",
    "    df = df.drop_duplicates(subset=columns_to_check, keep='first')\n",
    "\n",
    "    return df"
   ]
  },
  {
   "cell_type": "code",
   "execution_count": 7,
   "metadata": {},
   "outputs": [
    {
     "name": "stdout",
     "output_type": "stream",
     "text": [
      "(3410580, 14)\n"
     ]
    }
   ],
   "source": [
    "optm_l1_df = delete_identical_filter(optm_df)\n",
    "print(optm_l1_df.shape)"
   ]
  },
  {
   "cell_type": "markdown",
   "metadata": {},
   "source": [
    "#### Identical Except Price Filter:\n",
    "There are a few sets of quotes with identical\n",
    "terms (type, strike, and maturity) but different prices. When this occurs, we\n",
    "keep the quote whose T-bill-based implied volatility is closest to that of its\n",
    "moneyness neighbors, and delete the others.\n",
    "\n",
    "NEXT STEPS - determine moneyness neighbors >> only 18 duplicates so 9 deleted versus 11 in paper"
   ]
  },
  {
   "cell_type": "code",
   "execution_count": 8,
   "metadata": {},
   "outputs": [],
   "source": [
    "def delete_identical_xprice_filter(df):\n",
    "    columns_to_check = ['cp_flag', 'strike_price','date', 'exdate']\n",
    "\n",
    "    # Drop duplicates based on specified columns\n",
    "    df = df.drop_duplicates(subset=columns_to_check, keep='first')\n",
    "\n",
    "    return df"
   ]
  },
  {
   "cell_type": "code",
   "execution_count": 9,
   "metadata": {},
   "outputs": [
    {
     "data": {
      "text/plain": [
       "(20, 14)"
      ]
     },
     "execution_count": 9,
     "metadata": {},
     "output_type": "execute_result"
    }
   ],
   "source": [
    "columns_to_check = ['cp_flag', 'strike_price','date', 'exdate']\n",
    "\n",
    "identical_df = optm_l1_df[optm_l1_df.duplicated(columns_to_check,keep=False)].sort_values(columns_to_check)\n",
    "\n",
    "identical_df.shape"
   ]
  },
  {
   "cell_type": "code",
   "execution_count": 10,
   "metadata": {},
   "outputs": [
    {
     "data": {
      "text/plain": [
       "(10, 14)"
      ]
     },
     "execution_count": 10,
     "metadata": {},
     "output_type": "execute_result"
    }
   ],
   "source": [
    "identical_df = optm_l1_df[optm_l1_df.duplicated(columns_to_check,keep='first')].sort_values(columns_to_check)\n",
    "identical_df.shape"
   ]
  },
  {
   "cell_type": "code",
   "execution_count": 11,
   "metadata": {},
   "outputs": [
    {
     "name": "stdout",
     "output_type": "stream",
     "text": [
      "(3410570, 14)\n"
     ]
    }
   ],
   "source": [
    "optm_l1_df = delete_identical_xprice_filter(optm_l1_df)\n",
    "print(optm_l1_df.shape)"
   ]
  },
  {
   "cell_type": "code",
   "execution_count": 12,
   "metadata": {},
   "outputs": [],
   "source": [
    "def delete_zero_bid(df):\n",
    "    df=df.loc[df['best_bid'] > 0]\n",
    "    return df"
   ]
  },
  {
   "cell_type": "code",
   "execution_count": 13,
   "metadata": {},
   "outputs": [],
   "source": [
    "optm_l1_df = delete_zero_bid(optm_l1_df)"
   ]
  },
  {
   "cell_type": "code",
   "execution_count": 14,
   "metadata": {},
   "outputs": [
    {
     "data": {
      "text/plain": [
       "272088"
      ]
     },
     "execution_count": 14,
     "metadata": {},
     "output_type": "execute_result"
    }
   ],
   "source": [
    "optm_df.shape[0] - optm_l1_df.shape[0]"
   ]
  },
  {
   "cell_type": "markdown",
   "metadata": {},
   "source": [
    "### Level 2 filters\n",
    "* “Days to Maturity <7 or >180” Filter\n",
    "* “IV<5% or >100%” Filter\n",
    "* “Moneyness <0.8 or >1.2” Filter\n",
    "* “Implied Interest Rate <0” Filter"
   ]
  },
  {
   "cell_type": "code",
   "execution_count": 15,
   "metadata": {},
   "outputs": [],
   "source": [
    "opmt_l2_df = optm_l1_df.copy()\n",
    "opmt_l2_df.drop(columns=['secid'], inplace=True)"
   ]
  },
  {
   "cell_type": "code",
   "execution_count": 16,
   "metadata": {},
   "outputs": [],
   "source": [
    "# Days to maturity <7 or >180\n",
    "opmt_l2_df['time_to_maturity'] = (opmt_l2_df['exdate'] - opmt_l2_df['date']).dt.days\n",
    "\n",
    "opmt_l2_df = opmt_l2_df.loc[(opmt_l2_df['time_to_maturity'] >= 7) & (opmt_l2_df['time_to_maturity'] <= 180)]"
   ]
  },
  {
   "cell_type": "code",
   "execution_count": 17,
   "metadata": {},
   "outputs": [],
   "source": [
    "opmt_l2_df['time_to_maturity_yrs'] = opmt_l2_df['time_to_maturity']/365"
   ]
  },
  {
   "cell_type": "code",
   "execution_count": 18,
   "metadata": {},
   "outputs": [],
   "source": [
    "test = opmt_l2_df.iloc[41964,:]"
   ]
  },
  {
   "cell_type": "code",
   "execution_count": 19,
   "metadata": {},
   "outputs": [
    {
     "data": {
      "text/html": [
       "<div>\n",
       "<style scoped>\n",
       "    .dataframe tbody tr th:only-of-type {\n",
       "        vertical-align: middle;\n",
       "    }\n",
       "\n",
       "    .dataframe tbody tr th {\n",
       "        vertical-align: top;\n",
       "    }\n",
       "\n",
       "    .dataframe thead th {\n",
       "        text-align: right;\n",
       "    }\n",
       "</style>\n",
       "<table border=\"1\" class=\"dataframe\">\n",
       "  <thead>\n",
       "    <tr style=\"text-align: right;\">\n",
       "      <th></th>\n",
       "      <th>66621</th>\n",
       "    </tr>\n",
       "  </thead>\n",
       "  <tbody>\n",
       "    <tr>\n",
       "      <th>date</th>\n",
       "      <td>1996-11-12 00:00:00</td>\n",
       "    </tr>\n",
       "    <tr>\n",
       "      <th>open</th>\n",
       "      <td>731.87</td>\n",
       "    </tr>\n",
       "    <tr>\n",
       "      <th>close</th>\n",
       "      <td>729.56</td>\n",
       "    </tr>\n",
       "    <tr>\n",
       "      <th>cp_flag</th>\n",
       "      <td>P</td>\n",
       "    </tr>\n",
       "    <tr>\n",
       "      <th>exdate</th>\n",
       "      <td>1997-03-22 00:00:00</td>\n",
       "    </tr>\n",
       "    <tr>\n",
       "      <th>impl_volatility</th>\n",
       "      <td>0.155791</td>\n",
       "    </tr>\n",
       "    <tr>\n",
       "      <th>tb_m3</th>\n",
       "      <td>0.0504</td>\n",
       "    </tr>\n",
       "    <tr>\n",
       "      <th>volume</th>\n",
       "      <td>9.0</td>\n",
       "    </tr>\n",
       "    <tr>\n",
       "      <th>best_bid</th>\n",
       "      <td>18.25</td>\n",
       "    </tr>\n",
       "    <tr>\n",
       "      <th>best_offer</th>\n",
       "      <td>19.0</td>\n",
       "    </tr>\n",
       "    <tr>\n",
       "      <th>strike_price</th>\n",
       "      <td>720.0</td>\n",
       "    </tr>\n",
       "    <tr>\n",
       "      <th>option_price</th>\n",
       "      <td>18.625</td>\n",
       "    </tr>\n",
       "    <tr>\n",
       "      <th>index_price</th>\n",
       "      <td>730.715</td>\n",
       "    </tr>\n",
       "    <tr>\n",
       "      <th>time_to_maturity</th>\n",
       "      <td>130</td>\n",
       "    </tr>\n",
       "    <tr>\n",
       "      <th>time_to_maturity_yrs</th>\n",
       "      <td>0.356164</td>\n",
       "    </tr>\n",
       "  </tbody>\n",
       "</table>\n",
       "</div>"
      ],
      "text/plain": [
       "                                    66621\n",
       "date                  1996-11-12 00:00:00\n",
       "open                               731.87\n",
       "close                              729.56\n",
       "cp_flag                                 P\n",
       "exdate                1997-03-22 00:00:00\n",
       "impl_volatility                  0.155791\n",
       "tb_m3                              0.0504\n",
       "volume                                9.0\n",
       "best_bid                            18.25\n",
       "best_offer                           19.0\n",
       "strike_price                        720.0\n",
       "option_price                       18.625\n",
       "index_price                       730.715\n",
       "time_to_maturity                      130\n",
       "time_to_maturity_yrs             0.356164"
      ]
     },
     "execution_count": 19,
     "metadata": {},
     "output_type": "execute_result"
    }
   ],
   "source": [
    "test.to_frame()"
   ]
  },
  {
   "cell_type": "code",
   "execution_count": 20,
   "metadata": {},
   "outputs": [
    {
     "data": {
      "text/plain": [
       "0.16820384210428072"
      ]
     },
     "execution_count": 20,
     "metadata": {},
     "output_type": "execute_result"
    }
   ],
   "source": [
    "bsm_pricer.calc_implied_volatility(18.625, 730.715, 720, 0.36, .0504, 'P')"
   ]
  },
  {
   "cell_type": "code",
   "execution_count": 23,
   "metadata": {},
   "outputs": [],
   "source": [
    "def calc_implied_volatility_wrapper(row):\n",
    "    try:\n",
    "        implied_volatility = bsm_pricer.calc_implied_volatility(row['option_price'], row['index_price'], row['strike_price'], row['time_to_maturity_yrs'], row['tb_m3'], row['cp_flag'])\n",
    "        return implied_volatility\n",
    "    except ValueError as e:\n",
    "        # Handle the error as per your requirement, you can print the error or return a default value\n",
    "        print(f\"Error for row {row.name}: {e}\")\n",
    "        return 0"
   ]
  },
  {
   "cell_type": "code",
   "execution_count": 24,
   "metadata": {},
   "outputs": [
    {
     "name": "stdout",
     "output_type": "stream",
     "text": [
      "Error for row 31: Optimization was not successful. Try different bounds or initial guess.\n",
      "Error for row 55: Optimization was not successful. Try different bounds or initial guess.\n",
      "Error for row 75: Optimization was not successful. Try different bounds or initial guess.\n",
      "Error for row 85: Optimization was not successful. Try different bounds or initial guess.\n",
      "Error for row 92: Optimization was not successful. Try different bounds or initial guess.\n",
      "Error for row 110: Optimization was not successful. Try different bounds or initial guess.\n",
      "Error for row 125: Optimization was not successful. Try different bounds or initial guess.\n",
      "Error for row 131: Optimization was not successful. Try different bounds or initial guess.\n",
      "Error for row 174: Optimization was not successful. Try different bounds or initial guess.\n",
      "Error for row 197: Optimization was not successful. Try different bounds or initial guess.\n",
      "Error for row 208: Optimization was not successful. Try different bounds or initial guess.\n",
      "Error for row 221: Optimization was not successful. Try different bounds or initial guess.\n",
      "Error for row 231: Optimization was not successful. Try different bounds or initial guess.\n",
      "Error for row 237: Optimization was not successful. Try different bounds or initial guess.\n",
      "Error for row 245: Optimization was not successful. Try different bounds or initial guess.\n",
      "Error for row 265: Optimization was not successful. Try different bounds or initial guess.\n",
      "Error for row 280: Optimization was not successful. Try different bounds or initial guess.\n",
      "Error for row 291: Optimization was not successful. Try different bounds or initial guess.\n",
      "Error for row 293: Optimization was not successful. Try different bounds or initial guess.\n",
      "Error for row 311: Optimization was not successful. Try different bounds or initial guess.\n",
      "Error for row 323: Optimization was not successful. Try different bounds or initial guess.\n",
      "Error for row 336: Optimization was not successful. Try different bounds or initial guess.\n",
      "Error for row 355: Optimization was not successful. Try different bounds or initial guess.\n",
      "Error for row 359: Optimization was not successful. Try different bounds or initial guess.\n",
      "Error for row 368: Optimization was not successful. Try different bounds or initial guess.\n",
      "Error for row 461: Optimization was not successful. Try different bounds or initial guess.\n",
      "Error for row 473: Optimization was not successful. Try different bounds or initial guess.\n",
      "Error for row 491: Optimization was not successful. Try different bounds or initial guess.\n",
      "Error for row 494: Optimization was not successful. Try different bounds or initial guess.\n",
      "Error for row 527: Optimization was not successful. Try different bounds or initial guess.\n",
      "Error for row 533: Optimization was not successful. Try different bounds or initial guess.\n",
      "Error for row 541: Optimization was not successful. Try different bounds or initial guess.\n",
      "Error for row 543: Optimization was not successful. Try different bounds or initial guess.\n",
      "Error for row 548: Optimization was not successful. Try different bounds or initial guess.\n",
      "Error for row 569: Optimization was not successful. Try different bounds or initial guess.\n",
      "Error for row 573: Optimization was not successful. Try different bounds or initial guess.\n",
      "Error for row 577: Optimization was not successful. Try different bounds or initial guess.\n",
      "Error for row 578: Optimization was not successful. Try different bounds or initial guess.\n",
      "Error for row 580: Optimization was not successful. Try different bounds or initial guess.\n",
      "Error for row 595: Optimization was not successful. Try different bounds or initial guess.\n",
      "Error for row 618: Optimization was not successful. Try different bounds or initial guess.\n",
      "Error for row 628: Optimization was not successful. Try different bounds or initial guess.\n",
      "Error for row 651: Optimization was not successful. Try different bounds or initial guess.\n",
      "Error for row 669: Optimization was not successful. Try different bounds or initial guess.\n",
      "Error for row 696: Optimization was not successful. Try different bounds or initial guess.\n",
      "Error for row 700: Optimization was not successful. Try different bounds or initial guess.\n",
      "Error for row 755: Optimization was not successful. Try different bounds or initial guess.\n",
      "Error for row 774: Optimization was not successful. Try different bounds or initial guess.\n",
      "Error for row 781: Optimization was not successful. Try different bounds or initial guess.\n",
      "Error for row 816: Optimization was not successful. Try different bounds or initial guess.\n",
      "Error for row 818: Optimization was not successful. Try different bounds or initial guess.\n",
      "Error for row 824: Optimization was not successful. Try different bounds or initial guess.\n",
      "Error for row 903: Optimization was not successful. Try different bounds or initial guess.\n",
      "Error for row 906: Optimization was not successful. Try different bounds or initial guess.\n",
      "Error for row 915: Optimization was not successful. Try different bounds or initial guess.\n",
      "Error for row 923: Optimization was not successful. Try different bounds or initial guess.\n",
      "Error for row 936: Optimization was not successful. Try different bounds or initial guess.\n",
      "Error for row 940: Optimization was not successful. Try different bounds or initial guess.\n",
      "Error for row 956: Optimization was not successful. Try different bounds or initial guess.\n",
      "Error for row 978: Optimization was not successful. Try different bounds or initial guess.\n",
      "Error for row 981: Optimization was not successful. Try different bounds or initial guess.\n",
      "Error for row 999: Optimization was not successful. Try different bounds or initial guess.\n",
      "Error for row 1029: Optimization was not successful. Try different bounds or initial guess.\n",
      "Error for row 1031: Optimization was not successful. Try different bounds or initial guess.\n",
      "Error for row 1038: Optimization was not successful. Try different bounds or initial guess.\n",
      "Error for row 1045: Optimization was not successful. Try different bounds or initial guess.\n",
      "Error for row 1063: Optimization was not successful. Try different bounds or initial guess.\n",
      "Error for row 1073: Optimization was not successful. Try different bounds or initial guess.\n",
      "Error for row 1083: Optimization was not successful. Try different bounds or initial guess.\n",
      "Error for row 1094: Optimization was not successful. Try different bounds or initial guess.\n",
      "Error for row 1101: Optimization was not successful. Try different bounds or initial guess.\n",
      "Error for row 1111: Optimization was not successful. Try different bounds or initial guess.\n",
      "Error for row 1117: Optimization was not successful. Try different bounds or initial guess.\n",
      "Error for row 1131: Optimization was not successful. Try different bounds or initial guess.\n",
      "Error for row 1138: Optimization was not successful. Try different bounds or initial guess.\n",
      "Error for row 1165: Optimization was not successful. Try different bounds or initial guess.\n",
      "Error for row 1186: Optimization was not successful. Try different bounds or initial guess.\n",
      "Error for row 1195: Optimization was not successful. Try different bounds or initial guess.\n",
      "Error for row 1205: Optimization was not successful. Try different bounds or initial guess.\n",
      "Error for row 1212: Optimization was not successful. Try different bounds or initial guess.\n",
      "Error for row 1242: Optimization was not successful. Try different bounds or initial guess.\n",
      "Error for row 1249: Optimization was not successful. Try different bounds or initial guess.\n",
      "Error for row 1267: Optimization was not successful. Try different bounds or initial guess.\n",
      "Error for row 1291: Optimization was not successful. Try different bounds or initial guess.\n",
      "Error for row 1312: Optimization was not successful. Try different bounds or initial guess.\n",
      "Error for row 1327: Optimization was not successful. Try different bounds or initial guess.\n",
      "Error for row 1330: Optimization was not successful. Try different bounds or initial guess.\n",
      "Error for row 1334: Optimization was not successful. Try different bounds or initial guess.\n",
      "Error for row 1338: Optimization was not successful. Try different bounds or initial guess.\n",
      "Error for row 1346: Optimization was not successful. Try different bounds or initial guess.\n",
      "Error for row 1359: Optimization was not successful. Try different bounds or initial guess.\n",
      "Error for row 1371: Optimization was not successful. Try different bounds or initial guess.\n",
      "Error for row 1383: Optimization was not successful. Try different bounds or initial guess.\n",
      "Error for row 1389: Optimization was not successful. Try different bounds or initial guess.\n",
      "Error for row 1391: Optimization was not successful. Try different bounds or initial guess.\n",
      "Error for row 1393: Optimization was not successful. Try different bounds or initial guess.\n",
      "Error for row 1398: Optimization was not successful. Try different bounds or initial guess.\n",
      "Error for row 1402: Optimization was not successful. Try different bounds or initial guess.\n",
      "Error for row 1408: Optimization was not successful. Try different bounds or initial guess.\n",
      "Error for row 1422: Optimization was not successful. Try different bounds or initial guess.\n",
      "Error for row 1450: Optimization was not successful. Try different bounds or initial guess.\n",
      "Error for row 1464: Optimization was not successful. Try different bounds or initial guess.\n",
      "Error for row 1484: Optimization was not successful. Try different bounds or initial guess.\n",
      "Error for row 1496: Optimization was not successful. Try different bounds or initial guess.\n",
      "Error for row 1510: Optimization was not successful. Try different bounds or initial guess.\n",
      "Error for row 1538: Optimization was not successful. Try different bounds or initial guess.\n",
      "Error for row 1599: Optimization was not successful. Try different bounds or initial guess.\n",
      "Error for row 1641: Optimization was not successful. Try different bounds or initial guess.\n",
      "Error for row 1683: Optimization was not successful. Try different bounds or initial guess.\n",
      "Error for row 1720: Optimization was not successful. Try different bounds or initial guess.\n",
      "Error for row 1740: Optimization was not successful. Try different bounds or initial guess.\n",
      "Error for row 1799: Optimization was not successful. Try different bounds or initial guess.\n",
      "Error for row 1826: Optimization was not successful. Try different bounds or initial guess.\n",
      "Error for row 1844: Optimization was not successful. Try different bounds or initial guess.\n",
      "Error for row 1853: Optimization was not successful. Try different bounds or initial guess.\n",
      "Error for row 1866: Optimization was not successful. Try different bounds or initial guess.\n",
      "Error for row 1880: Optimization was not successful. Try different bounds or initial guess.\n",
      "Error for row 1907: Optimization was not successful. Try different bounds or initial guess.\n",
      "Error for row 1909: Optimization was not successful. Try different bounds or initial guess.\n",
      "Error for row 1911: Optimization was not successful. Try different bounds or initial guess.\n",
      "Error for row 1912: Optimization was not successful. Try different bounds or initial guess.\n",
      "Error for row 1927: Optimization was not successful. Try different bounds or initial guess.\n",
      "Error for row 1948: Optimization was not successful. Try different bounds or initial guess.\n",
      "Error for row 1956: Optimization was not successful. Try different bounds or initial guess.\n",
      "Error for row 1976: Optimization was not successful. Try different bounds or initial guess.\n",
      "Error for row 1997: Optimization was not successful. Try different bounds or initial guess.\n",
      "Error for row 2035: Optimization was not successful. Try different bounds or initial guess.\n",
      "Error for row 2036: Optimization was not successful. Try different bounds or initial guess.\n",
      "Error for row 2037: Optimization was not successful. Try different bounds or initial guess.\n",
      "Error for row 2038: Optimization was not successful. Try different bounds or initial guess.\n",
      "Error for row 2039: Optimization was not successful. Try different bounds or initial guess.\n",
      "Error for row 2040: Optimization was not successful. Try different bounds or initial guess.\n",
      "Error for row 2041: Optimization was not successful. Try different bounds or initial guess.\n",
      "Error for row 2047: Optimization was not successful. Try different bounds or initial guess.\n",
      "Error for row 2049: Optimization was not successful. Try different bounds or initial guess.\n",
      "Error for row 2050: Optimization was not successful. Try different bounds or initial guess.\n",
      "Error for row 2051: Optimization was not successful. Try different bounds or initial guess.\n",
      "Error for row 2053: Optimization was not successful. Try different bounds or initial guess.\n",
      "Error for row 2056: Optimization was not successful. Try different bounds or initial guess.\n",
      "Error for row 2058: Optimization was not successful. Try different bounds or initial guess.\n",
      "Error for row 2059: Optimization was not successful. Try different bounds or initial guess.\n",
      "Error for row 2062: Optimization was not successful. Try different bounds or initial guess.\n",
      "Error for row 2066: Optimization was not successful. Try different bounds or initial guess.\n",
      "Error for row 2067: Optimization was not successful. Try different bounds or initial guess.\n",
      "Error for row 2068: Optimization was not successful. Try different bounds or initial guess.\n",
      "Error for row 2069: Optimization was not successful. Try different bounds or initial guess.\n",
      "Error for row 2070: Optimization was not successful. Try different bounds or initial guess.\n",
      "Error for row 2072: Optimization was not successful. Try different bounds or initial guess.\n",
      "Error for row 2076: Optimization was not successful. Try different bounds or initial guess.\n",
      "Error for row 2078: Optimization was not successful. Try different bounds or initial guess.\n",
      "Error for row 2079: Optimization was not successful. Try different bounds or initial guess.\n",
      "Error for row 2080: Optimization was not successful. Try different bounds or initial guess.\n",
      "Error for row 2082: Optimization was not successful. Try different bounds or initial guess.\n",
      "Error for row 2084: Optimization was not successful. Try different bounds or initial guess.\n",
      "Error for row 2087: Optimization was not successful. Try different bounds or initial guess.\n",
      "Error for row 2092: Optimization was not successful. Try different bounds or initial guess.\n",
      "Error for row 2095: Optimization was not successful. Try different bounds or initial guess.\n",
      "Error for row 2096: Optimization was not successful. Try different bounds or initial guess.\n",
      "Error for row 2097: Optimization was not successful. Try different bounds or initial guess.\n",
      "Error for row 2098: Optimization was not successful. Try different bounds or initial guess.\n",
      "Error for row 2101: Optimization was not successful. Try different bounds or initial guess.\n",
      "Error for row 2103: Optimization was not successful. Try different bounds or initial guess.\n",
      "Error for row 2105: Optimization was not successful. Try different bounds or initial guess.\n",
      "Error for row 2106: Optimization was not successful. Try different bounds or initial guess.\n",
      "Error for row 2107: Optimization was not successful. Try different bounds or initial guess.\n",
      "Error for row 2109: Optimization was not successful. Try different bounds or initial guess.\n",
      "Error for row 2110: Optimization was not successful. Try different bounds or initial guess.\n",
      "Error for row 2111: Optimization was not successful. Try different bounds or initial guess.\n",
      "Error for row 2113: Optimization was not successful. Try different bounds or initial guess.\n",
      "Error for row 2114: Optimization was not successful. Try different bounds or initial guess.\n",
      "Error for row 2116: Optimization was not successful. Try different bounds or initial guess.\n",
      "Error for row 2117: Optimization was not successful. Try different bounds or initial guess.\n",
      "Error for row 2120: Optimization was not successful. Try different bounds or initial guess.\n",
      "Error for row 2121: Optimization was not successful. Try different bounds or initial guess.\n",
      "Error for row 2122: Optimization was not successful. Try different bounds or initial guess.\n",
      "Error for row 2123: Optimization was not successful. Try different bounds or initial guess.\n",
      "Error for row 2124: Optimization was not successful. Try different bounds or initial guess.\n",
      "Error for row 2125: Optimization was not successful. Try different bounds or initial guess.\n",
      "Error for row 2127: Optimization was not successful. Try different bounds or initial guess.\n",
      "Error for row 2128: Optimization was not successful. Try different bounds or initial guess.\n",
      "Error for row 2129: Optimization was not successful. Try different bounds or initial guess.\n",
      "Error for row 2130: Optimization was not successful. Try different bounds or initial guess.\n",
      "Error for row 2131: Optimization was not successful. Try different bounds or initial guess.\n",
      "Error for row 2135: Optimization was not successful. Try different bounds or initial guess.\n",
      "Error for row 2136: Optimization was not successful. Try different bounds or initial guess.\n",
      "Error for row 2137: Optimization was not successful. Try different bounds or initial guess.\n",
      "Error for row 2138: Optimization was not successful. Try different bounds or initial guess.\n",
      "Error for row 2146: Optimization was not successful. Try different bounds or initial guess.\n",
      "Error for row 2147: Optimization was not successful. Try different bounds or initial guess.\n",
      "Error for row 2149: Optimization was not successful. Try different bounds or initial guess.\n",
      "Error for row 2150: Optimization was not successful. Try different bounds or initial guess.\n",
      "Error for row 2151: Optimization was not successful. Try different bounds or initial guess.\n",
      "Error for row 2152: Optimization was not successful. Try different bounds or initial guess.\n",
      "Error for row 2153: Optimization was not successful. Try different bounds or initial guess.\n",
      "Error for row 2154: Optimization was not successful. Try different bounds or initial guess.\n",
      "Error for row 2155: Optimization was not successful. Try different bounds or initial guess.\n",
      "Error for row 2156: Optimization was not successful. Try different bounds or initial guess.\n",
      "Error for row 2157: Optimization was not successful. Try different bounds or initial guess.\n",
      "Error for row 2158: Optimization was not successful. Try different bounds or initial guess.\n",
      "Error for row 2159: Optimization was not successful. Try different bounds or initial guess.\n",
      "Error for row 2161: Optimization was not successful. Try different bounds or initial guess.\n",
      "Error for row 2162: Optimization was not successful. Try different bounds or initial guess.\n",
      "Error for row 2164: Optimization was not successful. Try different bounds or initial guess.\n",
      "Error for row 2166: Optimization was not successful. Try different bounds or initial guess.\n",
      "Error for row 2169: Optimization was not successful. Try different bounds or initial guess.\n",
      "Error for row 2172: Optimization was not successful. Try different bounds or initial guess.\n",
      "Error for row 2174: Optimization was not successful. Try different bounds or initial guess.\n",
      "Error for row 2177: Optimization was not successful. Try different bounds or initial guess.\n",
      "Error for row 2179: Optimization was not successful. Try different bounds or initial guess.\n",
      "Error for row 2180: Optimization was not successful. Try different bounds or initial guess.\n",
      "Error for row 2188: Optimization was not successful. Try different bounds or initial guess.\n",
      "Error for row 2189: Optimization was not successful. Try different bounds or initial guess.\n",
      "Error for row 2190: Optimization was not successful. Try different bounds or initial guess.\n",
      "Error for row 2191: Optimization was not successful. Try different bounds or initial guess.\n",
      "Error for row 2192: Optimization was not successful. Try different bounds or initial guess.\n",
      "Error for row 2194: Optimization was not successful. Try different bounds or initial guess.\n",
      "Error for row 2195: Optimization was not successful. Try different bounds or initial guess.\n",
      "Error for row 2197: Optimization was not successful. Try different bounds or initial guess.\n",
      "Error for row 2199: Optimization was not successful. Try different bounds or initial guess.\n",
      "Error for row 2202: Optimization was not successful. Try different bounds or initial guess.\n",
      "Error for row 2204: Optimization was not successful. Try different bounds or initial guess.\n",
      "Error for row 2206: Optimization was not successful. Try different bounds or initial guess.\n",
      "Error for row 2210: Optimization was not successful. Try different bounds or initial guess.\n",
      "Error for row 2211: Optimization was not successful. Try different bounds or initial guess.\n",
      "Error for row 2212: Optimization was not successful. Try different bounds or initial guess.\n",
      "Error for row 2214: Optimization was not successful. Try different bounds or initial guess.\n",
      "Error for row 2216: Optimization was not successful. Try different bounds or initial guess.\n",
      "Error for row 2219: Optimization was not successful. Try different bounds or initial guess.\n",
      "Error for row 2220: Optimization was not successful. Try different bounds or initial guess.\n",
      "Error for row 2221: Optimization was not successful. Try different bounds or initial guess.\n",
      "Error for row 2222: Optimization was not successful. Try different bounds or initial guess.\n",
      "Error for row 2224: Optimization was not successful. Try different bounds or initial guess.\n",
      "Error for row 2228: Optimization was not successful. Try different bounds or initial guess.\n",
      "Error for row 2229: Optimization was not successful. Try different bounds or initial guess.\n",
      "Error for row 2232: Optimization was not successful. Try different bounds or initial guess.\n",
      "Error for row 2233: Optimization was not successful. Try different bounds or initial guess.\n",
      "Error for row 2235: Optimization was not successful. Try different bounds or initial guess.\n",
      "Error for row 2236: Optimization was not successful. Try different bounds or initial guess.\n",
      "Error for row 2237: Optimization was not successful. Try different bounds or initial guess.\n",
      "Error for row 2238: Optimization was not successful. Try different bounds or initial guess.\n",
      "Error for row 2239: Optimization was not successful. Try different bounds or initial guess.\n",
      "Error for row 2241: Optimization was not successful. Try different bounds or initial guess.\n",
      "Error for row 2243: Optimization was not successful. Try different bounds or initial guess.\n",
      "Error for row 2246: Optimization was not successful. Try different bounds or initial guess.\n",
      "Error for row 2249: Optimization was not successful. Try different bounds or initial guess.\n",
      "Error for row 2252: Optimization was not successful. Try different bounds or initial guess.\n",
      "Error for row 2253: Optimization was not successful. Try different bounds or initial guess.\n",
      "Error for row 2254: Optimization was not successful. Try different bounds or initial guess.\n",
      "Error for row 2257: Optimization was not successful. Try different bounds or initial guess.\n",
      "Error for row 2259: Optimization was not successful. Try different bounds or initial guess.\n",
      "Error for row 2260: Optimization was not successful. Try different bounds or initial guess.\n",
      "Error for row 2263: Optimization was not successful. Try different bounds or initial guess.\n",
      "Error for row 2264: Optimization was not successful. Try different bounds or initial guess.\n",
      "Error for row 2265: Optimization was not successful. Try different bounds or initial guess.\n",
      "Error for row 2278: Optimization was not successful. Try different bounds or initial guess.\n",
      "Error for row 2279: Optimization was not successful. Try different bounds or initial guess.\n",
      "Error for row 2280: Optimization was not successful. Try different bounds or initial guess.\n",
      "Error for row 2284: Optimization was not successful. Try different bounds or initial guess.\n",
      "Error for row 2286: Optimization was not successful. Try different bounds or initial guess.\n",
      "Error for row 2288: Optimization was not successful. Try different bounds or initial guess.\n",
      "Error for row 2289: Optimization was not successful. Try different bounds or initial guess.\n",
      "Error for row 2291: Optimization was not successful. Try different bounds or initial guess.\n",
      "Error for row 2293: Optimization was not successful. Try different bounds or initial guess.\n",
      "Error for row 2295: Optimization was not successful. Try different bounds or initial guess.\n",
      "Error for row 2296: Optimization was not successful. Try different bounds or initial guess.\n",
      "Error for row 2297: Optimization was not successful. Try different bounds or initial guess.\n",
      "Error for row 2298: Optimization was not successful. Try different bounds or initial guess.\n",
      "Error for row 2301: Optimization was not successful. Try different bounds or initial guess.\n",
      "Error for row 2302: Optimization was not successful. Try different bounds or initial guess.\n",
      "Error for row 2305: Optimization was not successful. Try different bounds or initial guess.\n",
      "Error for row 2307: Optimization was not successful. Try different bounds or initial guess.\n",
      "Error for row 2308: Optimization was not successful. Try different bounds or initial guess.\n",
      "Error for row 2310: Optimization was not successful. Try different bounds or initial guess.\n",
      "Error for row 2311: Optimization was not successful. Try different bounds or initial guess.\n",
      "Error for row 2312: Optimization was not successful. Try different bounds or initial guess.\n",
      "Error for row 2313: Optimization was not successful. Try different bounds or initial guess.\n",
      "Error for row 2314: Optimization was not successful. Try different bounds or initial guess.\n",
      "Error for row 2316: Optimization was not successful. Try different bounds or initial guess.\n",
      "Error for row 2410: Optimization was not successful. Try different bounds or initial guess.\n",
      "Error for row 2441: Optimization was not successful. Try different bounds or initial guess.\n",
      "Error for row 2456: Optimization was not successful. Try different bounds or initial guess.\n",
      "Error for row 2462: Optimization was not successful. Try different bounds or initial guess.\n",
      "Error for row 2471: Optimization was not successful. Try different bounds or initial guess.\n",
      "Error for row 2481: Optimization was not successful. Try different bounds or initial guess.\n",
      "Error for row 2501: Optimization was not successful. Try different bounds or initial guess.\n",
      "Error for row 2521: Optimization was not successful. Try different bounds or initial guess.\n",
      "Error for row 2525: Optimization was not successful. Try different bounds or initial guess.\n",
      "Error for row 2561: Optimization was not successful. Try different bounds or initial guess.\n",
      "Error for row 2567: Optimization was not successful. Try different bounds or initial guess.\n",
      "Error for row 2588: Optimization was not successful. Try different bounds or initial guess.\n",
      "Error for row 2613: Optimization was not successful. Try different bounds or initial guess.\n",
      "Error for row 2622: Optimization was not successful. Try different bounds or initial guess.\n",
      "Error for row 2666: Optimization was not successful. Try different bounds or initial guess.\n",
      "Error for row 2668: Optimization was not successful. Try different bounds or initial guess.\n",
      "Error for row 2669: Optimization was not successful. Try different bounds or initial guess.\n",
      "Error for row 2684: Optimization was not successful. Try different bounds or initial guess.\n",
      "Error for row 2690: Optimization was not successful. Try different bounds or initial guess.\n",
      "Error for row 2691: Optimization was not successful. Try different bounds or initial guess.\n",
      "Error for row 2693: Optimization was not successful. Try different bounds or initial guess.\n",
      "Error for row 2699: Optimization was not successful. Try different bounds or initial guess.\n",
      "Error for row 2717: Optimization was not successful. Try different bounds or initial guess.\n",
      "Error for row 2739: Optimization was not successful. Try different bounds or initial guess.\n",
      "Error for row 2750: Optimization was not successful. Try different bounds or initial guess.\n",
      "Error for row 2753: Optimization was not successful. Try different bounds or initial guess.\n",
      "Error for row 2755: Optimization was not successful. Try different bounds or initial guess.\n",
      "Error for row 2770: Optimization was not successful. Try different bounds or initial guess.\n",
      "Error for row 2779: Optimization was not successful. Try different bounds or initial guess.\n",
      "Error for row 2796: Optimization was not successful. Try different bounds or initial guess.\n",
      "Error for row 2841: Optimization was not successful. Try different bounds or initial guess.\n",
      "Error for row 2847: Optimization was not successful. Try different bounds or initial guess.\n",
      "Error for row 2858: Optimization was not successful. Try different bounds or initial guess.\n",
      "Error for row 2859: Optimization was not successful. Try different bounds or initial guess.\n",
      "Error for row 2868: Optimization was not successful. Try different bounds or initial guess.\n",
      "Error for row 2903: Optimization was not successful. Try different bounds or initial guess.\n",
      "Error for row 2911: Optimization was not successful. Try different bounds or initial guess.\n",
      "Error for row 2923: Optimization was not successful. Try different bounds or initial guess.\n",
      "Error for row 2950: Optimization was not successful. Try different bounds or initial guess.\n",
      "Error for row 2972: Optimization was not successful. Try different bounds or initial guess.\n",
      "Error for row 3015: Optimization was not successful. Try different bounds or initial guess.\n",
      "Error for row 3030: Optimization was not successful. Try different bounds or initial guess.\n",
      "Error for row 3034: Optimization was not successful. Try different bounds or initial guess.\n",
      "Error for row 3056: Optimization was not successful. Try different bounds or initial guess.\n",
      "Error for row 3075: Optimization was not successful. Try different bounds or initial guess.\n",
      "Error for row 3079: Optimization was not successful. Try different bounds or initial guess.\n",
      "Error for row 3097: Optimization was not successful. Try different bounds or initial guess.\n",
      "Error for row 3135: Optimization was not successful. Try different bounds or initial guess.\n",
      "Error for row 3148: Optimization was not successful. Try different bounds or initial guess.\n",
      "Error for row 3157: Optimization was not successful. Try different bounds or initial guess.\n",
      "Error for row 3163: Optimization was not successful. Try different bounds or initial guess.\n",
      "Error for row 3226: Optimization was not successful. Try different bounds or initial guess.\n",
      "Error for row 3240: Optimization was not successful. Try different bounds or initial guess.\n",
      "Error for row 3245: Optimization was not successful. Try different bounds or initial guess.\n",
      "Error for row 3270: Optimization was not successful. Try different bounds or initial guess.\n",
      "Error for row 3299: Optimization was not successful. Try different bounds or initial guess.\n",
      "Error for row 3310: Optimization was not successful. Try different bounds or initial guess.\n",
      "Error for row 3314: Optimization was not successful. Try different bounds or initial guess.\n",
      "Error for row 3321: Optimization was not successful. Try different bounds or initial guess.\n",
      "Error for row 3360: Optimization was not successful. Try different bounds or initial guess.\n",
      "Error for row 3390: Optimization was not successful. Try different bounds or initial guess.\n",
      "Error for row 3433: Optimization was not successful. Try different bounds or initial guess.\n",
      "Error for row 3482: Optimization was not successful. Try different bounds or initial guess.\n",
      "Error for row 3490: Optimization was not successful. Try different bounds or initial guess.\n",
      "Error for row 3496: Optimization was not successful. Try different bounds or initial guess.\n",
      "Error for row 3512: Optimization was not successful. Try different bounds or initial guess.\n",
      "Error for row 3528: Optimization was not successful. Try different bounds or initial guess.\n",
      "Error for row 3541: Optimization was not successful. Try different bounds or initial guess.\n",
      "Error for row 3551: Optimization was not successful. Try different bounds or initial guess.\n",
      "Error for row 3554: Optimization was not successful. Try different bounds or initial guess.\n",
      "Error for row 3555: Optimization was not successful. Try different bounds or initial guess.\n",
      "Error for row 3558: Optimization was not successful. Try different bounds or initial guess.\n",
      "Error for row 3580: Optimization was not successful. Try different bounds or initial guess.\n",
      "Error for row 3658: Optimization was not successful. Try different bounds or initial guess.\n",
      "Error for row 3704: Optimization was not successful. Try different bounds or initial guess.\n",
      "Error for row 3714: Optimization was not successful. Try different bounds or initial guess.\n",
      "Error for row 3715: Optimization was not successful. Try different bounds or initial guess.\n",
      "Error for row 3723: Optimization was not successful. Try different bounds or initial guess.\n",
      "Error for row 3737: Optimization was not successful. Try different bounds or initial guess.\n",
      "Error for row 3739: Optimization was not successful. Try different bounds or initial guess.\n",
      "Error for row 3755: Optimization was not successful. Try different bounds or initial guess.\n",
      "Error for row 3760: Optimization was not successful. Try different bounds or initial guess.\n",
      "Error for row 3821: Optimization was not successful. Try different bounds or initial guess.\n",
      "Error for row 3822: Optimization was not successful. Try different bounds or initial guess.\n",
      "Error for row 3833: Optimization was not successful. Try different bounds or initial guess.\n",
      "Error for row 3868: Optimization was not successful. Try different bounds or initial guess.\n",
      "Error for row 3882: Optimization was not successful. Try different bounds or initial guess.\n",
      "Error for row 3931: Optimization was not successful. Try different bounds or initial guess.\n",
      "Error for row 3935: Optimization was not successful. Try different bounds or initial guess.\n",
      "Error for row 3961: Optimization was not successful. Try different bounds or initial guess.\n",
      "Error for row 3966: Optimization was not successful. Try different bounds or initial guess.\n",
      "Error for row 3975: Optimization was not successful. Try different bounds or initial guess.\n",
      "Error for row 3994: Optimization was not successful. Try different bounds or initial guess.\n",
      "Error for row 4036: Optimization was not successful. Try different bounds or initial guess.\n",
      "Error for row 4039: Optimization was not successful. Try different bounds or initial guess.\n",
      "Error for row 4040: Optimization was not successful. Try different bounds or initial guess.\n",
      "Error for row 4097: Optimization was not successful. Try different bounds or initial guess.\n",
      "Error for row 4152: Optimization was not successful. Try different bounds or initial guess.\n",
      "Error for row 4157: Optimization was not successful. Try different bounds or initial guess.\n",
      "Error for row 4174: Optimization was not successful. Try different bounds or initial guess.\n",
      "Error for row 4239: Optimization was not successful. Try different bounds or initial guess.\n",
      "Error for row 4252: Optimization was not successful. Try different bounds or initial guess.\n",
      "Error for row 4256: Optimization was not successful. Try different bounds or initial guess.\n",
      "Error for row 4299: Optimization was not successful. Try different bounds or initial guess.\n",
      "Error for row 4302: Optimization was not successful. Try different bounds or initial guess.\n",
      "Error for row 4319: Optimization was not successful. Try different bounds or initial guess.\n",
      "Error for row 4322: Optimization was not successful. Try different bounds or initial guess.\n",
      "Error for row 4368: Optimization was not successful. Try different bounds or initial guess.\n",
      "Error for row 4377: Optimization was not successful. Try different bounds or initial guess.\n",
      "Error for row 4379: Optimization was not successful. Try different bounds or initial guess.\n",
      "Error for row 4384: Optimization was not successful. Try different bounds or initial guess.\n",
      "Error for row 4386: Optimization was not successful. Try different bounds or initial guess.\n",
      "Error for row 4425: Optimization was not successful. Try different bounds or initial guess.\n",
      "Error for row 4434: Optimization was not successful. Try different bounds or initial guess.\n",
      "Error for row 4450: Optimization was not successful. Try different bounds or initial guess.\n",
      "Error for row 4455: Optimization was not successful. Try different bounds or initial guess.\n",
      "Error for row 4458: Optimization was not successful. Try different bounds or initial guess.\n",
      "Error for row 4528: Optimization was not successful. Try different bounds or initial guess.\n",
      "Error for row 4543: Optimization was not successful. Try different bounds or initial guess.\n",
      "Error for row 4547: Optimization was not successful. Try different bounds or initial guess.\n",
      "Error for row 4553: Optimization was not successful. Try different bounds or initial guess.\n",
      "Error for row 4570: Optimization was not successful. Try different bounds or initial guess.\n",
      "Error for row 4583: Optimization was not successful. Try different bounds or initial guess.\n"
     ]
    },
    {
     "ename": "KeyboardInterrupt",
     "evalue": "",
     "output_type": "error",
     "traceback": [
      "\u001b[1;31m---------------------------------------------------------------------------\u001b[0m",
      "\u001b[1;31mKeyboardInterrupt\u001b[0m                         Traceback (most recent call last)",
      "Cell \u001b[1;32mIn[24], line 1\u001b[0m\n\u001b[1;32m----> 1\u001b[0m opmt_l2_df[\u001b[38;5;124m'\u001b[39m\u001b[38;5;124mimpl_vol_bsm\u001b[39m\u001b[38;5;124m'\u001b[39m] \u001b[38;5;241m=\u001b[39m \u001b[43mopmt_l2_df\u001b[49m\u001b[38;5;241;43m.\u001b[39;49m\u001b[43mapply\u001b[49m\u001b[43m(\u001b[49m\u001b[43mcalc_implied_volatility_wrapper\u001b[49m\u001b[43m,\u001b[49m\u001b[43m \u001b[49m\u001b[43maxis\u001b[49m\u001b[38;5;241;43m=\u001b[39;49m\u001b[38;5;241;43m1\u001b[39;49m\u001b[43m)\u001b[49m\n",
      "File \u001b[1;32mc:\\Users\\harri\\anaconda3\\envs\\finm\\Lib\\site-packages\\pandas\\core\\frame.py:10034\u001b[0m, in \u001b[0;36mDataFrame.apply\u001b[1;34m(self, func, axis, raw, result_type, args, by_row, **kwargs)\u001b[0m\n\u001b[0;32m  10022\u001b[0m \u001b[38;5;28;01mfrom\u001b[39;00m \u001b[38;5;21;01mpandas\u001b[39;00m\u001b[38;5;21;01m.\u001b[39;00m\u001b[38;5;21;01mcore\u001b[39;00m\u001b[38;5;21;01m.\u001b[39;00m\u001b[38;5;21;01mapply\u001b[39;00m \u001b[38;5;28;01mimport\u001b[39;00m frame_apply\n\u001b[0;32m  10024\u001b[0m op \u001b[38;5;241m=\u001b[39m frame_apply(\n\u001b[0;32m  10025\u001b[0m     \u001b[38;5;28mself\u001b[39m,\n\u001b[0;32m  10026\u001b[0m     func\u001b[38;5;241m=\u001b[39mfunc,\n\u001b[1;32m   (...)\u001b[0m\n\u001b[0;32m  10032\u001b[0m     kwargs\u001b[38;5;241m=\u001b[39mkwargs,\n\u001b[0;32m  10033\u001b[0m )\n\u001b[1;32m> 10034\u001b[0m \u001b[38;5;28;01mreturn\u001b[39;00m \u001b[43mop\u001b[49m\u001b[38;5;241;43m.\u001b[39;49m\u001b[43mapply\u001b[49m\u001b[43m(\u001b[49m\u001b[43m)\u001b[49m\u001b[38;5;241m.\u001b[39m__finalize__(\u001b[38;5;28mself\u001b[39m, method\u001b[38;5;241m=\u001b[39m\u001b[38;5;124m\"\u001b[39m\u001b[38;5;124mapply\u001b[39m\u001b[38;5;124m\"\u001b[39m)\n",
      "File \u001b[1;32mc:\\Users\\harri\\anaconda3\\envs\\finm\\Lib\\site-packages\\pandas\\core\\apply.py:837\u001b[0m, in \u001b[0;36mFrameApply.apply\u001b[1;34m(self)\u001b[0m\n\u001b[0;32m    834\u001b[0m \u001b[38;5;28;01melif\u001b[39;00m \u001b[38;5;28mself\u001b[39m\u001b[38;5;241m.\u001b[39mraw:\n\u001b[0;32m    835\u001b[0m     \u001b[38;5;28;01mreturn\u001b[39;00m \u001b[38;5;28mself\u001b[39m\u001b[38;5;241m.\u001b[39mapply_raw()\n\u001b[1;32m--> 837\u001b[0m \u001b[38;5;28;01mreturn\u001b[39;00m \u001b[38;5;28;43mself\u001b[39;49m\u001b[38;5;241;43m.\u001b[39;49m\u001b[43mapply_standard\u001b[49m\u001b[43m(\u001b[49m\u001b[43m)\u001b[49m\n",
      "File \u001b[1;32mc:\\Users\\harri\\anaconda3\\envs\\finm\\Lib\\site-packages\\pandas\\core\\apply.py:963\u001b[0m, in \u001b[0;36mFrameApply.apply_standard\u001b[1;34m(self)\u001b[0m\n\u001b[0;32m    962\u001b[0m \u001b[38;5;28;01mdef\u001b[39;00m \u001b[38;5;21mapply_standard\u001b[39m(\u001b[38;5;28mself\u001b[39m):\n\u001b[1;32m--> 963\u001b[0m     results, res_index \u001b[38;5;241m=\u001b[39m \u001b[38;5;28;43mself\u001b[39;49m\u001b[38;5;241;43m.\u001b[39;49m\u001b[43mapply_series_generator\u001b[49m\u001b[43m(\u001b[49m\u001b[43m)\u001b[49m\n\u001b[0;32m    965\u001b[0m     \u001b[38;5;66;03m# wrap results\u001b[39;00m\n\u001b[0;32m    966\u001b[0m     \u001b[38;5;28;01mreturn\u001b[39;00m \u001b[38;5;28mself\u001b[39m\u001b[38;5;241m.\u001b[39mwrap_results(results, res_index)\n",
      "File \u001b[1;32mc:\\Users\\harri\\anaconda3\\envs\\finm\\Lib\\site-packages\\pandas\\core\\apply.py:979\u001b[0m, in \u001b[0;36mFrameApply.apply_series_generator\u001b[1;34m(self)\u001b[0m\n\u001b[0;32m    976\u001b[0m \u001b[38;5;28;01mwith\u001b[39;00m option_context(\u001b[38;5;124m\"\u001b[39m\u001b[38;5;124mmode.chained_assignment\u001b[39m\u001b[38;5;124m\"\u001b[39m, \u001b[38;5;28;01mNone\u001b[39;00m):\n\u001b[0;32m    977\u001b[0m     \u001b[38;5;28;01mfor\u001b[39;00m i, v \u001b[38;5;129;01min\u001b[39;00m \u001b[38;5;28menumerate\u001b[39m(series_gen):\n\u001b[0;32m    978\u001b[0m         \u001b[38;5;66;03m# ignore SettingWithCopy here in case the user mutates\u001b[39;00m\n\u001b[1;32m--> 979\u001b[0m         results[i] \u001b[38;5;241m=\u001b[39m \u001b[38;5;28;43mself\u001b[39;49m\u001b[38;5;241;43m.\u001b[39;49m\u001b[43mfunc\u001b[49m\u001b[43m(\u001b[49m\u001b[43mv\u001b[49m\u001b[43m,\u001b[49m\u001b[43m \u001b[49m\u001b[38;5;241;43m*\u001b[39;49m\u001b[38;5;28;43mself\u001b[39;49m\u001b[38;5;241;43m.\u001b[39;49m\u001b[43margs\u001b[49m\u001b[43m,\u001b[49m\u001b[43m \u001b[49m\u001b[38;5;241;43m*\u001b[39;49m\u001b[38;5;241;43m*\u001b[39;49m\u001b[38;5;28;43mself\u001b[39;49m\u001b[38;5;241;43m.\u001b[39;49m\u001b[43mkwargs\u001b[49m\u001b[43m)\u001b[49m\n\u001b[0;32m    980\u001b[0m         \u001b[38;5;28;01mif\u001b[39;00m \u001b[38;5;28misinstance\u001b[39m(results[i], ABCSeries):\n\u001b[0;32m    981\u001b[0m             \u001b[38;5;66;03m# If we have a view on v, we need to make a copy because\u001b[39;00m\n\u001b[0;32m    982\u001b[0m             \u001b[38;5;66;03m#  series_generator will swap out the underlying data\u001b[39;00m\n\u001b[0;32m    983\u001b[0m             results[i] \u001b[38;5;241m=\u001b[39m results[i]\u001b[38;5;241m.\u001b[39mcopy(deep\u001b[38;5;241m=\u001b[39m\u001b[38;5;28;01mFalse\u001b[39;00m)\n",
      "Cell \u001b[1;32mIn[23], line 3\u001b[0m, in \u001b[0;36mcalc_implied_volatility_wrapper\u001b[1;34m(row)\u001b[0m\n\u001b[0;32m      1\u001b[0m \u001b[38;5;28;01mdef\u001b[39;00m \u001b[38;5;21mcalc_implied_volatility_wrapper\u001b[39m(row):\n\u001b[0;32m      2\u001b[0m     \u001b[38;5;28;01mtry\u001b[39;00m:\n\u001b[1;32m----> 3\u001b[0m         implied_volatility \u001b[38;5;241m=\u001b[39m \u001b[43mbsm_pricer\u001b[49m\u001b[38;5;241;43m.\u001b[39;49m\u001b[43mcalc_implied_volatility\u001b[49m\u001b[43m(\u001b[49m\u001b[43mrow\u001b[49m\u001b[43m[\u001b[49m\u001b[38;5;124;43m'\u001b[39;49m\u001b[38;5;124;43moption_price\u001b[39;49m\u001b[38;5;124;43m'\u001b[39;49m\u001b[43m]\u001b[49m\u001b[43m,\u001b[49m\u001b[43m \u001b[49m\u001b[43mrow\u001b[49m\u001b[43m[\u001b[49m\u001b[38;5;124;43m'\u001b[39;49m\u001b[38;5;124;43mindex_price\u001b[39;49m\u001b[38;5;124;43m'\u001b[39;49m\u001b[43m]\u001b[49m\u001b[43m,\u001b[49m\u001b[43m \u001b[49m\u001b[43mrow\u001b[49m\u001b[43m[\u001b[49m\u001b[38;5;124;43m'\u001b[39;49m\u001b[38;5;124;43mstrike_price\u001b[39;49m\u001b[38;5;124;43m'\u001b[39;49m\u001b[43m]\u001b[49m\u001b[43m,\u001b[49m\u001b[43m \u001b[49m\u001b[43mrow\u001b[49m\u001b[43m[\u001b[49m\u001b[38;5;124;43m'\u001b[39;49m\u001b[38;5;124;43mtime_to_maturity_yrs\u001b[39;49m\u001b[38;5;124;43m'\u001b[39;49m\u001b[43m]\u001b[49m\u001b[43m,\u001b[49m\u001b[43m \u001b[49m\u001b[43mrow\u001b[49m\u001b[43m[\u001b[49m\u001b[38;5;124;43m'\u001b[39;49m\u001b[38;5;124;43mtb_m3\u001b[39;49m\u001b[38;5;124;43m'\u001b[39;49m\u001b[43m]\u001b[49m\u001b[43m,\u001b[49m\u001b[43m \u001b[49m\u001b[43mrow\u001b[49m\u001b[43m[\u001b[49m\u001b[38;5;124;43m'\u001b[39;49m\u001b[38;5;124;43mcp_flag\u001b[39;49m\u001b[38;5;124;43m'\u001b[39;49m\u001b[43m]\u001b[49m\u001b[43m)\u001b[49m\n\u001b[0;32m      4\u001b[0m         \u001b[38;5;28;01mreturn\u001b[39;00m implied_volatility\n\u001b[0;32m      5\u001b[0m     \u001b[38;5;28;01mexcept\u001b[39;00m \u001b[38;5;167;01mValueError\u001b[39;00m \u001b[38;5;28;01mas\u001b[39;00m e:\n\u001b[0;32m      6\u001b[0m         \u001b[38;5;66;03m# Handle the error as per your requirement, you can print the error or return a default value\u001b[39;00m\n",
      "File \u001b[1;32mc:\\Users\\harri\\repos\\finm-32900_final_project\\src\\bsm_pricer.py:128\u001b[0m, in \u001b[0;36mcalc_implied_volatility\u001b[1;34m(market_price, S, K, T, r, option_type, tol, max_iter)\u001b[0m\n\u001b[0;32m    125\u001b[0m bounds \u001b[38;5;241m=\u001b[39m [(\u001b[38;5;241m0.001\u001b[39m, \u001b[38;5;241m5.0\u001b[39m)]\n\u001b[0;32m    127\u001b[0m \u001b[38;5;66;03m# Minimize the objective function\u001b[39;00m\n\u001b[1;32m--> 128\u001b[0m result \u001b[38;5;241m=\u001b[39m \u001b[43mminimize\u001b[49m\u001b[43m(\u001b[49m\u001b[43miv_objective\u001b[49m\u001b[43m,\u001b[49m\u001b[43m \u001b[49m\u001b[43minitial_guess\u001b[49m\u001b[43m,\u001b[49m\u001b[43m \u001b[49m\u001b[43margs\u001b[49m\u001b[38;5;241;43m=\u001b[39;49m\u001b[43m(\u001b[49m\u001b[43mmarket_price\u001b[49m\u001b[43m,\u001b[49m\u001b[43m \u001b[49m\u001b[43mS\u001b[49m\u001b[43m,\u001b[49m\u001b[43m \u001b[49m\u001b[43mK\u001b[49m\u001b[43m,\u001b[49m\u001b[43m \u001b[49m\u001b[43mT\u001b[49m\u001b[43m,\u001b[49m\u001b[43m \u001b[49m\u001b[43mr\u001b[49m\u001b[43m,\u001b[49m\u001b[43m \u001b[49m\u001b[43moption_type\u001b[49m\u001b[43m)\u001b[49m\u001b[43m,\u001b[49m\n\u001b[0;32m    129\u001b[0m \u001b[43m                  \u001b[49m\u001b[43mbounds\u001b[49m\u001b[38;5;241;43m=\u001b[39;49m\u001b[43mbounds\u001b[49m\u001b[43m,\u001b[49m\u001b[43m \u001b[49m\u001b[43mmethod\u001b[49m\u001b[38;5;241;43m=\u001b[39;49m\u001b[38;5;124;43m'\u001b[39;49m\u001b[38;5;124;43mL-BFGS-B\u001b[39;49m\u001b[38;5;124;43m'\u001b[39;49m\u001b[43m,\u001b[49m\u001b[43m \u001b[49m\u001b[43moptions\u001b[49m\u001b[38;5;241;43m=\u001b[39;49m\u001b[43m{\u001b[49m\u001b[38;5;124;43m'\u001b[39;49m\u001b[38;5;124;43meps\u001b[39;49m\u001b[38;5;124;43m'\u001b[39;49m\u001b[43m:\u001b[49m\u001b[43m \u001b[49m\u001b[38;5;241;43m1e-15\u001b[39;49m\u001b[43m,\u001b[49m\u001b[43m \u001b[49m\u001b[38;5;124;43m'\u001b[39;49m\u001b[38;5;124;43mgtol\u001b[39;49m\u001b[38;5;124;43m'\u001b[39;49m\u001b[43m:\u001b[49m\u001b[43m \u001b[49m\u001b[38;5;241;43m1e-15\u001b[39;49m\u001b[43m}\u001b[49m\u001b[43m)\u001b[49m\n\u001b[0;32m    131\u001b[0m \u001b[38;5;66;03m#print('result:', result)\u001b[39;00m\n\u001b[0;32m    132\u001b[0m \u001b[38;5;28;01mif\u001b[39;00m result\u001b[38;5;241m.\u001b[39msuccess:\n",
      "File \u001b[1;32mc:\\Users\\harri\\anaconda3\\envs\\finm\\Lib\\site-packages\\scipy\\optimize\\_minimize.py:710\u001b[0m, in \u001b[0;36mminimize\u001b[1;34m(fun, x0, args, method, jac, hess, hessp, bounds, constraints, tol, callback, options)\u001b[0m\n\u001b[0;32m    707\u001b[0m     res \u001b[38;5;241m=\u001b[39m _minimize_newtoncg(fun, x0, args, jac, hess, hessp, callback,\n\u001b[0;32m    708\u001b[0m                              \u001b[38;5;241m*\u001b[39m\u001b[38;5;241m*\u001b[39moptions)\n\u001b[0;32m    709\u001b[0m \u001b[38;5;28;01melif\u001b[39;00m meth \u001b[38;5;241m==\u001b[39m \u001b[38;5;124m'\u001b[39m\u001b[38;5;124ml-bfgs-b\u001b[39m\u001b[38;5;124m'\u001b[39m:\n\u001b[1;32m--> 710\u001b[0m     res \u001b[38;5;241m=\u001b[39m \u001b[43m_minimize_lbfgsb\u001b[49m\u001b[43m(\u001b[49m\u001b[43mfun\u001b[49m\u001b[43m,\u001b[49m\u001b[43m \u001b[49m\u001b[43mx0\u001b[49m\u001b[43m,\u001b[49m\u001b[43m \u001b[49m\u001b[43margs\u001b[49m\u001b[43m,\u001b[49m\u001b[43m \u001b[49m\u001b[43mjac\u001b[49m\u001b[43m,\u001b[49m\u001b[43m \u001b[49m\u001b[43mbounds\u001b[49m\u001b[43m,\u001b[49m\n\u001b[0;32m    711\u001b[0m \u001b[43m                           \u001b[49m\u001b[43mcallback\u001b[49m\u001b[38;5;241;43m=\u001b[39;49m\u001b[43mcallback\u001b[49m\u001b[43m,\u001b[49m\u001b[43m \u001b[49m\u001b[38;5;241;43m*\u001b[39;49m\u001b[38;5;241;43m*\u001b[39;49m\u001b[43moptions\u001b[49m\u001b[43m)\u001b[49m\n\u001b[0;32m    712\u001b[0m \u001b[38;5;28;01melif\u001b[39;00m meth \u001b[38;5;241m==\u001b[39m \u001b[38;5;124m'\u001b[39m\u001b[38;5;124mtnc\u001b[39m\u001b[38;5;124m'\u001b[39m:\n\u001b[0;32m    713\u001b[0m     res \u001b[38;5;241m=\u001b[39m _minimize_tnc(fun, x0, args, jac, bounds, callback\u001b[38;5;241m=\u001b[39mcallback,\n\u001b[0;32m    714\u001b[0m                         \u001b[38;5;241m*\u001b[39m\u001b[38;5;241m*\u001b[39moptions)\n",
      "File \u001b[1;32mc:\\Users\\harri\\anaconda3\\envs\\finm\\Lib\\site-packages\\scipy\\optimize\\_lbfgsb_py.py:365\u001b[0m, in \u001b[0;36m_minimize_lbfgsb\u001b[1;34m(fun, x0, args, jac, bounds, disp, maxcor, ftol, gtol, eps, maxfun, maxiter, iprint, callback, maxls, finite_diff_rel_step, **unknown_options)\u001b[0m\n\u001b[0;32m    359\u001b[0m task_str \u001b[38;5;241m=\u001b[39m task\u001b[38;5;241m.\u001b[39mtobytes()\n\u001b[0;32m    360\u001b[0m \u001b[38;5;28;01mif\u001b[39;00m task_str\u001b[38;5;241m.\u001b[39mstartswith(\u001b[38;5;124mb\u001b[39m\u001b[38;5;124m'\u001b[39m\u001b[38;5;124mFG\u001b[39m\u001b[38;5;124m'\u001b[39m):\n\u001b[0;32m    361\u001b[0m     \u001b[38;5;66;03m# The minimization routine wants f and g at the current x.\u001b[39;00m\n\u001b[0;32m    362\u001b[0m     \u001b[38;5;66;03m# Note that interruptions due to maxfun are postponed\u001b[39;00m\n\u001b[0;32m    363\u001b[0m     \u001b[38;5;66;03m# until the completion of the current minimization iteration.\u001b[39;00m\n\u001b[0;32m    364\u001b[0m     \u001b[38;5;66;03m# Overwrite f and g:\u001b[39;00m\n\u001b[1;32m--> 365\u001b[0m     f, g \u001b[38;5;241m=\u001b[39m \u001b[43mfunc_and_grad\u001b[49m\u001b[43m(\u001b[49m\u001b[43mx\u001b[49m\u001b[43m)\u001b[49m\n\u001b[0;32m    366\u001b[0m \u001b[38;5;28;01melif\u001b[39;00m task_str\u001b[38;5;241m.\u001b[39mstartswith(\u001b[38;5;124mb\u001b[39m\u001b[38;5;124m'\u001b[39m\u001b[38;5;124mNEW_X\u001b[39m\u001b[38;5;124m'\u001b[39m):\n\u001b[0;32m    367\u001b[0m     \u001b[38;5;66;03m# new iteration\u001b[39;00m\n\u001b[0;32m    368\u001b[0m     n_iterations \u001b[38;5;241m+\u001b[39m\u001b[38;5;241m=\u001b[39m \u001b[38;5;241m1\u001b[39m\n",
      "File \u001b[1;32mc:\\Users\\harri\\anaconda3\\envs\\finm\\Lib\\site-packages\\scipy\\optimize\\_differentiable_functions.py:285\u001b[0m, in \u001b[0;36mScalarFunction.fun_and_grad\u001b[1;34m(self, x)\u001b[0m\n\u001b[0;32m    283\u001b[0m \u001b[38;5;28;01mif\u001b[39;00m \u001b[38;5;129;01mnot\u001b[39;00m np\u001b[38;5;241m.\u001b[39marray_equal(x, \u001b[38;5;28mself\u001b[39m\u001b[38;5;241m.\u001b[39mx):\n\u001b[0;32m    284\u001b[0m     \u001b[38;5;28mself\u001b[39m\u001b[38;5;241m.\u001b[39m_update_x_impl(x)\n\u001b[1;32m--> 285\u001b[0m \u001b[38;5;28;43mself\u001b[39;49m\u001b[38;5;241;43m.\u001b[39;49m\u001b[43m_update_fun\u001b[49m\u001b[43m(\u001b[49m\u001b[43m)\u001b[49m\n\u001b[0;32m    286\u001b[0m \u001b[38;5;28mself\u001b[39m\u001b[38;5;241m.\u001b[39m_update_grad()\n\u001b[0;32m    287\u001b[0m \u001b[38;5;28;01mreturn\u001b[39;00m \u001b[38;5;28mself\u001b[39m\u001b[38;5;241m.\u001b[39mf, \u001b[38;5;28mself\u001b[39m\u001b[38;5;241m.\u001b[39mg\n",
      "File \u001b[1;32mc:\\Users\\harri\\anaconda3\\envs\\finm\\Lib\\site-packages\\scipy\\optimize\\_differentiable_functions.py:251\u001b[0m, in \u001b[0;36mScalarFunction._update_fun\u001b[1;34m(self)\u001b[0m\n\u001b[0;32m    249\u001b[0m \u001b[38;5;28;01mdef\u001b[39;00m \u001b[38;5;21m_update_fun\u001b[39m(\u001b[38;5;28mself\u001b[39m):\n\u001b[0;32m    250\u001b[0m     \u001b[38;5;28;01mif\u001b[39;00m \u001b[38;5;129;01mnot\u001b[39;00m \u001b[38;5;28mself\u001b[39m\u001b[38;5;241m.\u001b[39mf_updated:\n\u001b[1;32m--> 251\u001b[0m         \u001b[38;5;28;43mself\u001b[39;49m\u001b[38;5;241;43m.\u001b[39;49m\u001b[43m_update_fun_impl\u001b[49m\u001b[43m(\u001b[49m\u001b[43m)\u001b[49m\n\u001b[0;32m    252\u001b[0m         \u001b[38;5;28mself\u001b[39m\u001b[38;5;241m.\u001b[39mf_updated \u001b[38;5;241m=\u001b[39m \u001b[38;5;28;01mTrue\u001b[39;00m\n",
      "File \u001b[1;32mc:\\Users\\harri\\anaconda3\\envs\\finm\\Lib\\site-packages\\scipy\\optimize\\_differentiable_functions.py:155\u001b[0m, in \u001b[0;36mScalarFunction.__init__.<locals>.update_fun\u001b[1;34m()\u001b[0m\n\u001b[0;32m    154\u001b[0m \u001b[38;5;28;01mdef\u001b[39;00m \u001b[38;5;21mupdate_fun\u001b[39m():\n\u001b[1;32m--> 155\u001b[0m     \u001b[38;5;28mself\u001b[39m\u001b[38;5;241m.\u001b[39mf \u001b[38;5;241m=\u001b[39m \u001b[43mfun_wrapped\u001b[49m\u001b[43m(\u001b[49m\u001b[38;5;28;43mself\u001b[39;49m\u001b[38;5;241;43m.\u001b[39;49m\u001b[43mx\u001b[49m\u001b[43m)\u001b[49m\n",
      "File \u001b[1;32mc:\\Users\\harri\\anaconda3\\envs\\finm\\Lib\\site-packages\\scipy\\optimize\\_differentiable_functions.py:137\u001b[0m, in \u001b[0;36mScalarFunction.__init__.<locals>.fun_wrapped\u001b[1;34m(x)\u001b[0m\n\u001b[0;32m    133\u001b[0m \u001b[38;5;28mself\u001b[39m\u001b[38;5;241m.\u001b[39mnfev \u001b[38;5;241m+\u001b[39m\u001b[38;5;241m=\u001b[39m \u001b[38;5;241m1\u001b[39m\n\u001b[0;32m    134\u001b[0m \u001b[38;5;66;03m# Send a copy because the user may overwrite it.\u001b[39;00m\n\u001b[0;32m    135\u001b[0m \u001b[38;5;66;03m# Overwriting results in undefined behaviour because\u001b[39;00m\n\u001b[0;32m    136\u001b[0m \u001b[38;5;66;03m# fun(self.x) will change self.x, with the two no longer linked.\u001b[39;00m\n\u001b[1;32m--> 137\u001b[0m fx \u001b[38;5;241m=\u001b[39m \u001b[43mfun\u001b[49m\u001b[43m(\u001b[49m\u001b[43mnp\u001b[49m\u001b[38;5;241;43m.\u001b[39;49m\u001b[43mcopy\u001b[49m\u001b[43m(\u001b[49m\u001b[43mx\u001b[49m\u001b[43m)\u001b[49m\u001b[43m,\u001b[49m\u001b[43m \u001b[49m\u001b[38;5;241;43m*\u001b[39;49m\u001b[43margs\u001b[49m\u001b[43m)\u001b[49m\n\u001b[0;32m    138\u001b[0m \u001b[38;5;66;03m# Make sure the function returns a true scalar\u001b[39;00m\n\u001b[0;32m    139\u001b[0m \u001b[38;5;28;01mif\u001b[39;00m \u001b[38;5;129;01mnot\u001b[39;00m np\u001b[38;5;241m.\u001b[39misscalar(fx):\n",
      "File \u001b[1;32mc:\\Users\\harri\\repos\\finm-32900_final_project\\src\\bsm_pricer.py:107\u001b[0m, in \u001b[0;36miv_objective\u001b[1;34m(sigma, market_price, S, K, T, r, option_type)\u001b[0m\n\u001b[0;32m    102\u001b[0m \u001b[38;5;250m\u001b[39m\u001b[38;5;124;03m\"\"\"\u001b[39;00m\n\u001b[0;32m    103\u001b[0m \u001b[38;5;124;03mObjective function to calculate implied volatility.\u001b[39;00m\n\u001b[0;32m    104\u001b[0m \u001b[38;5;124;03m\"\"\"\u001b[39;00m\n\u001b[0;32m    106\u001b[0m \u001b[38;5;28;01mif\u001b[39;00m option_type\u001b[38;5;241m==\u001b[39m\u001b[38;5;124m'\u001b[39m\u001b[38;5;124mC\u001b[39m\u001b[38;5;124m'\u001b[39m:\n\u001b[1;32m--> 107\u001b[0m     theoretical_price \u001b[38;5;241m=\u001b[39m \u001b[43meuropean_call_price\u001b[49m\u001b[43m(\u001b[49m\u001b[43mS\u001b[49m\u001b[38;5;241;43m=\u001b[39;49m\u001b[43mS\u001b[49m\u001b[43m,\u001b[49m\u001b[43m \u001b[49m\u001b[43mK\u001b[49m\u001b[38;5;241;43m=\u001b[39;49m\u001b[43mK\u001b[49m\u001b[43m,\u001b[49m\u001b[43m \u001b[49m\u001b[43mT\u001b[49m\u001b[38;5;241;43m=\u001b[39;49m\u001b[43mT\u001b[49m\u001b[43m,\u001b[49m\u001b[43m \u001b[49m\u001b[43mr\u001b[49m\u001b[38;5;241;43m=\u001b[39;49m\u001b[43mr\u001b[49m\u001b[43m,\u001b[49m\u001b[43m \u001b[49m\u001b[43msigma\u001b[49m\u001b[38;5;241;43m=\u001b[39;49m\u001b[43msigma\u001b[49m\u001b[43m)\u001b[49m\n\u001b[0;32m    108\u001b[0m \u001b[38;5;28;01melif\u001b[39;00m option_type\u001b[38;5;241m==\u001b[39m\u001b[38;5;124m'\u001b[39m\u001b[38;5;124mP\u001b[39m\u001b[38;5;124m'\u001b[39m:\n\u001b[0;32m    109\u001b[0m     theoretical_price \u001b[38;5;241m=\u001b[39m european_put_price(S\u001b[38;5;241m=\u001b[39mS, K\u001b[38;5;241m=\u001b[39mK, T\u001b[38;5;241m=\u001b[39mT, r\u001b[38;5;241m=\u001b[39mr, sigma\u001b[38;5;241m=\u001b[39msigma)\n",
      "File \u001b[1;32mc:\\Users\\harri\\repos\\finm-32900_final_project\\src\\bsm_pricer.py:39\u001b[0m, in \u001b[0;36meuropean_call_price\u001b[1;34m(S, K, r, T, sigma)\u001b[0m\n\u001b[0;32m     36\u001b[0m d1 \u001b[38;5;241m=\u001b[39m (math\u001b[38;5;241m.\u001b[39mlog(S \u001b[38;5;241m/\u001b[39m K) \u001b[38;5;241m+\u001b[39m (r \u001b[38;5;241m+\u001b[39m \u001b[38;5;241m0.5\u001b[39m \u001b[38;5;241m*\u001b[39m sigma\u001b[38;5;241m*\u001b[39m\u001b[38;5;241m*\u001b[39m\u001b[38;5;241m2\u001b[39m) \u001b[38;5;241m*\u001b[39m T) \u001b[38;5;241m/\u001b[39m (sigma \u001b[38;5;241m*\u001b[39m math\u001b[38;5;241m.\u001b[39msqrt(T))\n\u001b[0;32m     37\u001b[0m d2 \u001b[38;5;241m=\u001b[39m d1 \u001b[38;5;241m-\u001b[39m sigma \u001b[38;5;241m*\u001b[39m math\u001b[38;5;241m.\u001b[39msqrt(T)\n\u001b[1;32m---> 39\u001b[0m call_price \u001b[38;5;241m=\u001b[39m S \u001b[38;5;241m*\u001b[39m \u001b[43mnorm_cdf\u001b[49m\u001b[43m(\u001b[49m\u001b[43md1\u001b[49m\u001b[43m)\u001b[49m \u001b[38;5;241m-\u001b[39m K \u001b[38;5;241m*\u001b[39m math\u001b[38;5;241m.\u001b[39mexp(\u001b[38;5;241m-\u001b[39mr \u001b[38;5;241m*\u001b[39m T) \u001b[38;5;241m*\u001b[39m norm_cdf(d2)\n\u001b[0;32m     40\u001b[0m \u001b[38;5;28;01mreturn\u001b[39;00m call_price\n",
      "File \u001b[1;32mc:\\Users\\harri\\repos\\finm-32900_final_project\\src\\bsm_pricer.py:76\u001b[0m, in \u001b[0;36mnorm_cdf\u001b[1;34m(x)\u001b[0m\n\u001b[0;32m     66\u001b[0m \u001b[38;5;250m\u001b[39m\u001b[38;5;124;03m\"\"\"\u001b[39;00m\n\u001b[0;32m     67\u001b[0m \u001b[38;5;124;03mCalculates the cumulative distribution function (CDF) of the standard normal distribution.\u001b[39;00m\n\u001b[0;32m     68\u001b[0m \n\u001b[1;32m   (...)\u001b[0m\n\u001b[0;32m     73\u001b[0m \u001b[38;5;124;03mfloat: The CDF value at x.\u001b[39;00m\n\u001b[0;32m     74\u001b[0m \u001b[38;5;124;03m\"\"\"\u001b[39;00m\n\u001b[0;32m     75\u001b[0m \u001b[38;5;66;03m# return (1.0 + math.erf(x / math.sqrt(2.0))) / 2.0\u001b[39;00m\n\u001b[1;32m---> 76\u001b[0m \u001b[38;5;28;01mreturn\u001b[39;00m \u001b[43mnorm\u001b[49m\u001b[38;5;241;43m.\u001b[39;49m\u001b[43mcdf\u001b[49m\u001b[43m(\u001b[49m\u001b[43mx\u001b[49m\u001b[43m)\u001b[49m\n",
      "File \u001b[1;32mc:\\Users\\harri\\anaconda3\\envs\\finm\\Lib\\site-packages\\scipy\\stats\\_distn_infrastructure.py:2072\u001b[0m, in \u001b[0;36mrv_continuous.cdf\u001b[1;34m(self, x, *args, **kwds)\u001b[0m\n\u001b[0;32m   2070\u001b[0m cond \u001b[38;5;241m=\u001b[39m cond0 \u001b[38;5;241m&\u001b[39m cond1\n\u001b[0;32m   2071\u001b[0m output \u001b[38;5;241m=\u001b[39m zeros(shape(cond), dtyp)\n\u001b[1;32m-> 2072\u001b[0m \u001b[43mplace\u001b[49m\u001b[43m(\u001b[49m\u001b[43moutput\u001b[49m\u001b[43m,\u001b[49m\u001b[43m \u001b[49m\u001b[43m(\u001b[49m\u001b[38;5;241;43m1\u001b[39;49m\u001b[38;5;241;43m-\u001b[39;49m\u001b[43mcond0\u001b[49m\u001b[43m)\u001b[49m\u001b[38;5;241;43m+\u001b[39;49m\u001b[43mnp\u001b[49m\u001b[38;5;241;43m.\u001b[39;49m\u001b[43misnan\u001b[49m\u001b[43m(\u001b[49m\u001b[43mx\u001b[49m\u001b[43m)\u001b[49m\u001b[43m,\u001b[49m\u001b[43m \u001b[49m\u001b[38;5;28;43mself\u001b[39;49m\u001b[38;5;241;43m.\u001b[39;49m\u001b[43mbadvalue\u001b[49m\u001b[43m)\u001b[49m\n\u001b[0;32m   2073\u001b[0m place(output, cond2, \u001b[38;5;241m1.0\u001b[39m)\n\u001b[0;32m   2074\u001b[0m \u001b[38;5;28;01mif\u001b[39;00m np\u001b[38;5;241m.\u001b[39many(cond):  \u001b[38;5;66;03m# call only if at least 1 entry\u001b[39;00m\n",
      "File \u001b[1;32mc:\\Users\\harri\\anaconda3\\envs\\finm\\Lib\\site-packages\\numpy\\lib\\function_base.py:1954\u001b[0m, in \u001b[0;36mplace\u001b[1;34m(arr, mask, vals)\u001b[0m\n\u001b[0;32m   1917\u001b[0m \u001b[38;5;129m@array_function_dispatch\u001b[39m(_place_dispatcher)\n\u001b[0;32m   1918\u001b[0m \u001b[38;5;28;01mdef\u001b[39;00m \u001b[38;5;21mplace\u001b[39m(arr, mask, vals):\n\u001b[0;32m   1919\u001b[0m \u001b[38;5;250m    \u001b[39m\u001b[38;5;124;03m\"\"\"\u001b[39;00m\n\u001b[0;32m   1920\u001b[0m \u001b[38;5;124;03m    Change elements of an array based on conditional and input values.\u001b[39;00m\n\u001b[0;32m   1921\u001b[0m \n\u001b[1;32m   (...)\u001b[0m\n\u001b[0;32m   1952\u001b[0m \n\u001b[0;32m   1953\u001b[0m \u001b[38;5;124;03m    \"\"\"\u001b[39;00m\n\u001b[1;32m-> 1954\u001b[0m     \u001b[38;5;28;01mreturn\u001b[39;00m \u001b[43m_place\u001b[49m\u001b[43m(\u001b[49m\u001b[43marr\u001b[49m\u001b[43m,\u001b[49m\u001b[43m \u001b[49m\u001b[43mmask\u001b[49m\u001b[43m,\u001b[49m\u001b[43m \u001b[49m\u001b[43mvals\u001b[49m\u001b[43m)\u001b[49m\n",
      "\u001b[1;31mKeyboardInterrupt\u001b[0m: "
     ]
    }
   ],
   "source": [
    "opmt_l2_df['impl_vol_bsm'] = opmt_l2_df.apply(calc_implied_volatility_wrapper, axis=1)"
   ]
  },
  {
   "cell_type": "code",
   "execution_count": 29,
   "metadata": {},
   "outputs": [
    {
     "data": {
      "text/plain": [
       "187052"
      ]
     },
     "execution_count": 29,
     "metadata": {},
     "output_type": "execute_result"
    }
   ],
   "source": [
    "len(opmt_l2_df.loc[opmt_l2_df['impl_volatility'].isna()])"
   ]
  },
  {
   "cell_type": "code",
   "execution_count": 32,
   "metadata": {},
   "outputs": [
    {
     "data": {
      "text/plain": [
       "1637279"
      ]
     },
     "execution_count": 32,
     "metadata": {},
     "output_type": "execute_result"
    }
   ],
   "source": [
    "opmt_l2_df.loc[(opmt_l2_df['impl_volatility']>=0.05) & (opmt_l2_df['impl_volatility']<=1.00)].shape[0]"
   ]
  },
  {
   "cell_type": "code",
   "execution_count": 28,
   "metadata": {},
   "outputs": [
    {
     "data": {
      "text/plain": [
       "1840763"
      ]
     },
     "execution_count": 28,
     "metadata": {},
     "output_type": "execute_result"
    }
   ],
   "source": [
    "opmt_l2_df.shape[0]"
   ]
  },
  {
   "cell_type": "code",
   "execution_count": null,
   "metadata": {},
   "outputs": [],
   "source": []
  },
  {
   "cell_type": "code",
   "execution_count": null,
   "metadata": {},
   "outputs": [],
   "source": []
  },
  {
   "cell_type": "code",
   "execution_count": null,
   "metadata": {},
   "outputs": [],
   "source": []
  },
  {
   "cell_type": "code",
   "execution_count": null,
   "metadata": {},
   "outputs": [],
   "source": []
  },
  {
   "cell_type": "code",
   "execution_count": 34,
   "metadata": {},
   "outputs": [
    {
     "data": {
      "text/html": [
       "<div>\n",
       "<style scoped>\n",
       "    .dataframe tbody tr th:only-of-type {\n",
       "        vertical-align: middle;\n",
       "    }\n",
       "\n",
       "    .dataframe tbody tr th {\n",
       "        vertical-align: top;\n",
       "    }\n",
       "\n",
       "    .dataframe thead th {\n",
       "        text-align: right;\n",
       "    }\n",
       "</style>\n",
       "<table border=\"1\" class=\"dataframe\">\n",
       "  <thead>\n",
       "    <tr style=\"text-align: right;\">\n",
       "      <th></th>\n",
       "      <th>secid</th>\n",
       "      <th>sdate</th>\n",
       "      <th>edate</th>\n",
       "      <th>permno</th>\n",
       "      <th>score</th>\n",
       "    </tr>\n",
       "  </thead>\n",
       "  <tbody>\n",
       "    <tr>\n",
       "      <th>0</th>\n",
       "      <td>5001.0</td>\n",
       "      <td>1996-01-02</td>\n",
       "      <td>1996-03-13</td>\n",
       "      <td>10074.0</td>\n",
       "      <td>1.0</td>\n",
       "    </tr>\n",
       "    <tr>\n",
       "      <th>1</th>\n",
       "      <td>5002.0</td>\n",
       "      <td>1996-01-01</td>\n",
       "      <td>1996-02-22</td>\n",
       "      <td>10154.0</td>\n",
       "      <td>1.0</td>\n",
       "    </tr>\n",
       "    <tr>\n",
       "      <th>2</th>\n",
       "      <td>5003.0</td>\n",
       "      <td>None</td>\n",
       "      <td>None</td>\n",
       "      <td>NaN</td>\n",
       "      <td>6.0</td>\n",
       "    </tr>\n",
       "    <tr>\n",
       "      <th>3</th>\n",
       "      <td>5004.0</td>\n",
       "      <td>1996-01-01</td>\n",
       "      <td>2000-01-27</td>\n",
       "      <td>80071.0</td>\n",
       "      <td>1.0</td>\n",
       "    </tr>\n",
       "    <tr>\n",
       "      <th>4</th>\n",
       "      <td>5005.0</td>\n",
       "      <td>1996-01-01</td>\n",
       "      <td>1997-08-12</td>\n",
       "      <td>85041.0</td>\n",
       "      <td>1.0</td>\n",
       "    </tr>\n",
       "  </tbody>\n",
       "</table>\n",
       "</div>"
      ],
      "text/plain": [
       "    secid       sdate       edate   permno  score\n",
       "0  5001.0  1996-01-02  1996-03-13  10074.0    1.0\n",
       "1  5002.0  1996-01-01  1996-02-22  10154.0    1.0\n",
       "2  5003.0        None        None      NaN    6.0\n",
       "3  5004.0  1996-01-01  2000-01-27  80071.0    1.0\n",
       "4  5005.0  1996-01-01  1997-08-12  85041.0    1.0"
      ]
     },
     "execution_count": 34,
     "metadata": {},
     "output_type": "execute_result"
    }
   ],
   "source": [
    "conn.get_table(library=\"wrdsapps\", table=\"opcrsphist\", obs=5)"
   ]
  },
  {
   "cell_type": "code",
   "execution_count": 41,
   "metadata": {},
   "outputs": [],
   "source": [
    "stdop = conn.get_table(library=\"optionm_all\", table=\"stdopd1996\")"
   ]
  },
  {
   "cell_type": "code",
   "execution_count": 42,
   "metadata": {},
   "outputs": [],
   "source": [
    "stdop = stdop.loc[stdop['secid']==108105]"
   ]
  },
  {
   "cell_type": "code",
   "execution_count": null,
   "metadata": {},
   "outputs": [],
   "source": [
    "df = pull_Option_info(\"hholt\")"
   ]
  },
  {
   "cell_type": "code",
   "execution_count": null,
   "metadata": {},
   "outputs": [],
   "source": []
  },
  {
   "cell_type": "code",
   "execution_count": null,
   "metadata": {},
   "outputs": [],
   "source": [
    "opinfd.loc[opinfd['secid']==108105]"
   ]
  },
  {
   "cell_type": "code",
   "execution_count": null,
   "metadata": {},
   "outputs": [],
   "source": [
    "df.head()"
   ]
  },
  {
   "cell_type": "code",
   "execution_count": null,
   "metadata": {},
   "outputs": [],
   "source": [
    "dup_cols = ['cp_flag','strike_price']\n",
    "\n",
    "duplicates = df[df.duplicated(subset=dup_cols, keep=False)]\n"
   ]
  },
  {
   "cell_type": "code",
   "execution_count": null,
   "metadata": {},
   "outputs": [],
   "source": [
    "duplicates.head()"
   ]
  },
  {
   "cell_type": "code",
   "execution_count": null,
   "metadata": {},
   "outputs": [],
   "source": []
  }
 ],
 "metadata": {
  "kernelspec": {
   "display_name": "finm",
   "language": "python",
   "name": "python3"
  },
  "language_info": {
   "codemirror_mode": {
    "name": "ipython",
    "version": 3
   },
   "file_extension": ".py",
   "mimetype": "text/x-python",
   "name": "python",
   "nbconvert_exporter": "python",
   "pygments_lexer": "ipython3",
   "version": "3.12.1"
  }
 },
 "nbformat": 4,
 "nbformat_minor": 2
}
