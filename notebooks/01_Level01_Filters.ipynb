{
 "cells": [
  {
   "cell_type": "markdown",
   "id": "a4778ae0-8a95-44b8-9e3e-3d282e1856fb",
   "metadata": {},
   "source": [
    "# Appendix B: Level 1 Filters\n",
    "\n",
    "#### After loading the data we apply four \"Level 1\" filters\" detailed below:\n",
    "\n",
    "* `“Identical Except Price” Filter:` The OptionMetrics data set contain duplicate observations, defined as two or more quotes with identical option type, strike, expiration date, and price. In each such case, we eliminate all but one of the quotes.\n",
    "\n",
    "* `“Identical Except Price” Filter:` There are a few sets of quotes with identical terms (type, strike, and maturity) but different prices. When this occurs, we\n",
    "keep the quote whose T-bill-based implied volatility is closest to that of its moneyness neighbors, and delete the others. \n",
    "\n",
    "* `“Bid = 0” Filter:` We remove quotes of zero for bids, thereby avoiding lowvalued options. Also, a zero bid may indicate censoring as negative bids cannot be recorded.\n",
    "\n",
    "* `“Volume = 0” Filter:` We remove quotes of zero for volumes, thereby avoiding lowtraded options. \n",
    "\n"
   ]
  },
  {
   "cell_type": "code",
   "execution_count": null,
   "id": "a22f4577-1603-42d3-a162-3e6376859c50",
   "metadata": {},
   "outputs": [],
   "source": [
    "import sys\n",
    "sys.path.insert(1, './../src/')\n",
    "\n",
    "import pandas as pd\n",
    "import numpy as np\n",
    "import config\n",
    "from pathlib import Path \n",
    "import time \n",
    "import seaborn as sns\n",
    "import matplotlib.pyplot as plt\n",
    "\n",
    "import load_option_data_01 \n",
    "import filter_option_data_01 as f1\n",
    "\n",
    "OUTPUT_DIR = Path(config.OUTPUT_DIR)\n",
    "DATA_DIR = Path(config.DATA_DIR)\n",
    "WRDS_USERNAME = config.WRDS_USERNAME\n",
    "\n",
    "START_DATE_01 =config.START_DATE_01\n",
    "END_DATE_01 = config.END_DATE_01\n",
    "\n",
    "START_DATE_02 =config.START_DATE_02\n",
    "END_DATE_02 = config.END_DATE_02\n",
    "\n",
    "NOTE_START = START_DATE_01\n",
    "NOTE_END = END_DATE_01"
   ]
  },
  {
   "cell_type": "markdown",
   "id": "58e011c1-08e3-4d23-a9e5-3487e8516b37",
   "metadata": {},
   "source": [
    "# Level 1 Filters: "
   ]
  },
  {
   "cell_type": "markdown",
   "id": "6c849e2a-edde-4baf-8e55-3c4ffcc37316",
   "metadata": {},
   "source": [
    "## Load Data"
   ]
  },
  {
   "cell_type": "code",
   "execution_count": null,
   "id": "63000872-dabd-4493-a539-4a731fffe7f8",
   "metadata": {},
   "outputs": [],
   "source": [
    "optm_l1_load = load_option_data_01.load_all_optm_data(data_dir=DATA_DIR,\n",
    "\t\t\t\t\t\t\t\t\t\t\twrds_username=WRDS_USERNAME, \n",
    "\t\t\t\t\t\t\t\t\t\t\tstartDate=NOTE_START,\n",
    "\t\t\t\t\t\t\t\t\t\t\tendDate=NOTE_END)\n",
    "optm_l1_load = f1.getSecPrice(optm_l1_load)\n",
    "optm_l1_load = f1.calc_moneyness(optm_l1_load)"
   ]
  },
  {
   "cell_type": "code",
   "execution_count": null,
   "id": "0962d6f4-b646-49d4-9d0e-e825df1096ee",
   "metadata": {},
   "outputs": [],
   "source": [
    "optm_l1_load.head()"
   ]
  },
  {
   "cell_type": "markdown",
   "id": "f0a11a99-9cba-4b23-93dc-211819dfacd6",
   "metadata": {},
   "source": [
    "## Plot Loaded Data"
   ]
  },
  {
   "cell_type": "code",
   "execution_count": null,
   "id": "5332c5ce",
   "metadata": {},
   "outputs": [],
   "source": [
    "plt.hist(optm_l1_load['date'], bins=30)\n",
    "plt.xlabel('Date')\n",
    "plt.ylabel('Count')\n",
    "plt.title('Distribution of OptionMetrics Pricing Data')\n",
    "plt.show()"
   ]
  },
  {
   "cell_type": "code",
   "execution_count": null,
   "id": "859f2017-7f21-4379-a723-a3bf019df976",
   "metadata": {},
   "outputs": [],
   "source": [
    "\n",
    "datplot = optm_l1_load\n",
    "datplot['log_iv'] = np.log(datplot['impl_volatility'])\n",
    "fig, ax = plt.subplots(1,3, figsize=(12,8))\n",
    "axes = ax.flatten()\n",
    "\n",
    "axes[0].hist(datplot['impl_volatility'], bins=250, color='darkblue')\n",
    "axes[0].set_xlabel('IV')\n",
    "axes[0].set_ylabel('Frequency')\n",
    "axes[0].set_title('Distribution of IV')\n",
    "axes[0].grid()\n",
    "\n",
    "axes[1].hist(datplot['log_iv'], bins=250, color='grey')\n",
    "axes[1].set_xlabel('log(IV)')\n",
    "axes[1].set_ylabel('Frequency')\n",
    "axes[1].set_title('Distribution of log(IV)')\n",
    "axes[1].grid()\n",
    "\n",
    "j = 2\n",
    "axes[j].hist(datplot['mnyns'], bins=250, color='grey')\n",
    "axes[j].set_xlabel('Moneyness')\n",
    "axes[j].set_ylabel('Frequency')\n",
    "axes[j].set_title('Distribution of Moneyness')\n",
    "axes[j].grid()\n",
    "\n",
    "\n",
    "\n",
    "plt.suptitle('Level 1 Filtered Data')\n",
    "plt.tight_layout()\n",
    "plt.show()"
   ]
  },
  {
   "cell_type": "markdown",
   "id": "b779e14c-4721-45ed-9f18-26463e998711",
   "metadata": {},
   "source": [
    "## Filter Duplicates"
   ]
  },
  {
   "cell_type": "markdown",
   "id": "cdc9c944-042e-45e1-9351-73777f3fa5a9",
   "metadata": {},
   "source": [
    "The OptionMetrics data set contain duplicate observations,\n",
    "defined as two or more quotes with identical option type, strike, expiration date, and price. In each such case, we eliminate all but one of the quotes. \n",
    "\n",
    "Replicating this step we found there was only one duplicate observation on March 27, 2007."
   ]
  },
  {
   "cell_type": "code",
   "execution_count": null,
   "id": "3c2962bf",
   "metadata": {},
   "outputs": [],
   "source": [
    "optm_l1_id = f1.delete_identical_filter(optm_l1_load)\n",
    "optm_l1_load['best_mid']= (optm_l1_load['best_bid'] + optm_l1_load['best_offer'])/2"
   ]
  },
  {
   "cell_type": "code",
   "execution_count": null,
   "id": "5124a143",
   "metadata": {},
   "outputs": [],
   "source": [
    "duplicate_counts = optm_l1_load.groupby(['date', 'cp_flag', 'strike_price', 'exdate', 'best_mid']).size().reset_index(name='count')\n",
    "duplicate_counts = duplicate_counts.loc[duplicate_counts['count'] > 1]\n",
    "\n",
    "fig, ax = plt.subplots(figsize=(12, 8))\n",
    "sns.barplot(x='date', y='count', hue='cp_flag', data=duplicate_counts)\n",
    "ax.set_xlabel('date')\n",
    "ax.set_ylabel('count')\n",
    "ax.set_title('Distribution of Duplicate Observations - Identical Terms')\n",
    "plt.show()"
   ]
  },
  {
   "cell_type": "markdown",
   "id": "840b517e-bf36-4bd5-97bd-079f4244501c",
   "metadata": {},
   "source": [
    "## Filter Identical in all but price"
   ]
  },
  {
   "cell_type": "markdown",
   "id": "43c54d7c-be1f-4127-80e7-2b395460fcbb",
   "metadata": {},
   "source": [
    "The OptionMetrics data set contain duplicate observations,\n",
    "defined as two or more quotes with identical option type, strike, expiration\n",
    "date, and price. In each such case, we eliminate all but one of the quotes."
   ]
  },
  {
   "cell_type": "code",
   "execution_count": null,
   "id": "5bfe5cc9-e7c4-4302-bf94-772785bffa1e",
   "metadata": {},
   "outputs": [],
   "source": [
    "optm_l1_idxp = f1.delete_identical_but_price_filter(optm_l1_id)"
   ]
  },
  {
   "cell_type": "code",
   "execution_count": null,
   "id": "6a78da30",
   "metadata": {},
   "outputs": [],
   "source": [
    "duplicate_counts = optm_l1_id.groupby(['date', 'cp_flag', 'strike_price', 'exdate']).size().reset_index(name='count')\n",
    "duplicate_counts = duplicate_counts.loc[duplicate_counts['count'] > 1]\n",
    "\n",
    "fig, ax = plt.subplots(figsize=(12, 8))\n",
    "sns.barplot(x='date', y='count', hue='cp_flag', data=duplicate_counts)\n",
    "ax.set_xlabel('date')\n",
    "ax.set_ylabel('count')\n",
    "ax.set_title('Distribution of Duplicate Observations - Identical Terms Except Price')\n",
    "plt.show()"
   ]
  },
  {
   "cell_type": "markdown",
   "id": "c927634b-10cd-4df8-9a9f-6ba066723523",
   "metadata": {},
   "source": [
    "## Filter Options with Bid = 0 "
   ]
  },
  {
   "cell_type": "markdown",
   "id": "b0f695ab",
   "metadata": {},
   "source": [
    "We remove quotes of zero for bids, thereby avoiding low-valued options. Also, a zero bid may indicate censoring as negative bids\n",
    "cannot be recorded."
   ]
  },
  {
   "cell_type": "code",
   "execution_count": null,
   "id": "46fee8af-d972-40c2-a6dd-ba6e5ae9f5a9",
   "metadata": {},
   "outputs": [],
   "source": [
    "optm_l1_zbid = f1.delete_zero_bid_filter(optm_l1_id)"
   ]
  },
  {
   "cell_type": "code",
   "execution_count": null,
   "id": "ec045d4a",
   "metadata": {},
   "outputs": [],
   "source": [
    "fig, axes = plt.subplots(1, 2, figsize=(12, 6))\n",
    "\n",
    "# Plot distribution of best_bid for optm_l1_id\n",
    "axes[0].hist(optm_l1_id['best_bid'], bins=30)\n",
    "axes[0].set_xlabel('Best Bid')\n",
    "axes[0].set_ylabel('Frequency')\n",
    "axes[0].set_title('Distribution of Best Bid - Pre-filter')\n",
    "\n",
    "# Plot distribution of best_bid for optm_l1_zbid\n",
    "axes[1].hist(optm_l1_zbid['best_bid'], bins=30, color='darkred')\n",
    "axes[1].set_xlabel('Best Bid')\n",
    "axes[1].set_ylabel('Frequency')\n",
    "axes[1].set_title('Distribution of Best Bid - Post-filter')\n",
    "\n",
    "plt.tight_layout()\n",
    "plt.show()\n"
   ]
  },
  {
   "cell_type": "markdown",
   "id": "ea943445-c0c6-4ace-8286-12beffe5c709",
   "metadata": {},
   "source": [
    "## Filter Options with Vol = 0"
   ]
  },
  {
   "cell_type": "markdown",
   "id": "40adf70c",
   "metadata": {},
   "source": [
    "In Table B.1 the paper includes a filter to exclude options where the volume is zero. Based on the table, after applying the filter the number of options deleted is zero. From our analysis, there are over 2 million rows with a volume of zero. As a result, we decided to not apply this filter to avoid dramatically skewing our results away from the original table."
   ]
  },
  {
   "cell_type": "code",
   "execution_count": null,
   "id": "8edac980-d318-4ab5-bd9e-23fd9c35f210",
   "metadata": {},
   "outputs": [],
   "source": [
    "optm_l1_zvol = f1.delete_zero_volume_filter(optm_l1_zbid)"
   ]
  },
  {
   "cell_type": "code",
   "execution_count": null,
   "id": "7146b219",
   "metadata": {},
   "outputs": [],
   "source": [
    "zero_vol_rows = optm_l1_zbid[optm_l1_zbid['volume'] == 0]\n",
    "plt.hist(zero_vol_rows['date'], bins=30)\n",
    "plt.xlabel('Date')\n",
    "plt.ylabel('Count')\n",
    "plt.title('Distribution of Options with Zero Volume')\n",
    "plt.show()\n"
   ]
  },
  {
   "cell_type": "markdown",
   "id": "16e19c66-1c42-4969-9e4b-6de43753aed1",
   "metadata": {},
   "source": [
    "## Summarize Level 1 Filters"
   ]
  },
  {
   "cell_type": "markdown",
   "id": "e7b9aa25-3e01-444e-a435-e77bf4952716",
   "metadata": {},
   "source": [
    "After application of the level 1 filters, quotes with zero bids was the primary driver of deleted observations."
   ]
  },
  {
   "cell_type": "code",
   "execution_count": null,
   "id": "514a9eb0-5447-4379-ab0a-39d5abd84c73",
   "metadata": {},
   "outputs": [],
   "source": [
    "df2, df2_sum, df2_B1 = f1.appendixBfilter_level1(optm_l1_load)\n",
    "df2_B1 = df2_B1.reset_index().rename(columns={'index': 'Substep'}).set_index(['Step', 'Substep']).map('{:,.0f}'.format)\n",
    "df2_B1 = df2_B1.map(lambda x: '' if str(x).lower() == 'nan' else x)\n",
    "df2_B1"
   ]
  }
 ],
 "metadata": {
  "language_info": {
   "name": "python"
  }
 },
 "nbformat": 4,
 "nbformat_minor": 5
}
