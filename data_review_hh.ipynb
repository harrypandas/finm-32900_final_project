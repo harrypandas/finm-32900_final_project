{
 "cells": [
  {
   "cell_type": "code",
   "execution_count": 1,
   "metadata": {},
   "outputs": [],
   "source": [
    "import wrds\n",
    "import pandas as pd\n",
    "pd.set_option('display.max_columns', None)\n",
    "pd.set_option('display.max_rows', None)"
   ]
  },
  {
   "cell_type": "code",
   "execution_count": 2,
   "metadata": {},
   "outputs": [],
   "source": [
    "def pull_all_option_price(wrds_username, last_year=2012): \n",
    "\tdb = wrds.Connection(wrds_username=wrds_username)\n",
    "\n",
    "\toptm_df = []\n",
    "\n",
    "\tfor year in range(1996,last_year+1):\n",
    "\t\tsql_query = f\"\"\"\n",
    "\t\t\t\t\t\tSELECT \n",
    "\t\t\t\t\t\t\ta.date, a.secid, a.exdate,  \n",
    "\t\t\t\t\t\t\ta.cp_flag, a.strike_price, a.forward_price\n",
    "\t\t\t\t\t\tFROM\n",
    "\t\t\t\t\t\t\toptionm_all.opprcd{year} AS a\n",
    "\t\t\t\t\t\tWHERE\n",
    "\t\t\t\t\t\t\ta.secid=108105;\n",
    "\t\t\t\t\t\"\"\"\n",
    "\t\t\n",
    "\t\toptm = db.raw_sql(sql_query, date_cols = [\"date\"])\n",
    "\n",
    "\t\toptm_df.append(optm)\n",
    "\t\t\n",
    "\tdb.close()\n",
    "\n",
    "\toptm_df = pd.concat(optm_df)\n",
    "\t\n",
    "\treturn optm_df"
   ]
  },
  {
   "cell_type": "code",
   "execution_count": 3,
   "metadata": {},
   "outputs": [
    {
     "name": "stdout",
     "output_type": "stream",
     "text": [
      "Loading library list...\n",
      "Done\n"
     ]
    }
   ],
   "source": [
    "optm_df = pull_all_option_price(\"hholt\", 2012)"
   ]
  },
  {
   "cell_type": "code",
   "execution_count": null,
   "metadata": {},
   "outputs": [],
   "source": [
    "optm.shape"
   ]
  },
  {
   "cell_type": "code",
   "execution_count": null,
   "metadata": {},
   "outputs": [
    {
     "data": {
      "text/html": [
       "<div>\n",
       "<style scoped>\n",
       "    .dataframe tbody tr th:only-of-type {\n",
       "        vertical-align: middle;\n",
       "    }\n",
       "\n",
       "    .dataframe tbody tr th {\n",
       "        vertical-align: top;\n",
       "    }\n",
       "\n",
       "    .dataframe thead th {\n",
       "        text-align: right;\n",
       "    }\n",
       "</style>\n",
       "<table border=\"1\" class=\"dataframe\">\n",
       "  <thead>\n",
       "    <tr style=\"text-align: right;\">\n",
       "      <th></th>\n",
       "      <th>date</th>\n",
       "      <th>secid</th>\n",
       "      <th>exdate</th>\n",
       "      <th>cp_flag</th>\n",
       "      <th>strike_price</th>\n",
       "      <th>forward_price</th>\n",
       "    </tr>\n",
       "  </thead>\n",
       "  <tbody>\n",
       "    <tr>\n",
       "      <th>0</th>\n",
       "      <td>1996-01-05</td>\n",
       "      <td>108105.0</td>\n",
       "      <td>1996-03-16</td>\n",
       "      <td>C</td>\n",
       "      <td>525000.0</td>\n",
       "      <td>None</td>\n",
       "    </tr>\n",
       "    <tr>\n",
       "      <th>1</th>\n",
       "      <td>1996-01-05</td>\n",
       "      <td>108105.0</td>\n",
       "      <td>1996-03-16</td>\n",
       "      <td>C</td>\n",
       "      <td>550000.0</td>\n",
       "      <td>None</td>\n",
       "    </tr>\n",
       "    <tr>\n",
       "      <th>2</th>\n",
       "      <td>1996-01-09</td>\n",
       "      <td>108105.0</td>\n",
       "      <td>1996-02-17</td>\n",
       "      <td>C</td>\n",
       "      <td>570000.0</td>\n",
       "      <td>None</td>\n",
       "    </tr>\n",
       "    <tr>\n",
       "      <th>3</th>\n",
       "      <td>1996-01-09</td>\n",
       "      <td>108105.0</td>\n",
       "      <td>1996-01-20</td>\n",
       "      <td>C</td>\n",
       "      <td>580000.0</td>\n",
       "      <td>None</td>\n",
       "    </tr>\n",
       "    <tr>\n",
       "      <th>4</th>\n",
       "      <td>1996-01-17</td>\n",
       "      <td>108105.0</td>\n",
       "      <td>1996-01-20</td>\n",
       "      <td>C</td>\n",
       "      <td>595000.0</td>\n",
       "      <td>None</td>\n",
       "    </tr>\n",
       "  </tbody>\n",
       "</table>\n",
       "</div>"
      ],
      "text/plain": [
       "        date     secid      exdate cp_flag  strike_price forward_price\n",
       "0 1996-01-05  108105.0  1996-03-16       C      525000.0          None\n",
       "1 1996-01-05  108105.0  1996-03-16       C      550000.0          None\n",
       "2 1996-01-09  108105.0  1996-02-17       C      570000.0          None\n",
       "3 1996-01-09  108105.0  1996-01-20       C      580000.0          None\n",
       "4 1996-01-17  108105.0  1996-01-20       C      595000.0          None"
      ]
     },
     "execution_count": 4,
     "metadata": {},
     "output_type": "execute_result"
    }
   ],
   "source": [
    "optm_df.head()"
   ]
  },
  {
   "cell_type": "code",
   "execution_count": null,
   "metadata": {},
   "outputs": [],
   "source": [
    "optm_df['date'] = pd.to_datetime(optm_df['date'])"
   ]
  },
  {
   "cell_type": "code",
   "execution_count": null,
   "metadata": {},
   "outputs": [],
   "source": [
    "optm_df = optm_df.loc[optm_df['date']<='2012-01-31']"
   ]
  },
  {
   "cell_type": "code",
   "execution_count": null,
   "metadata": {},
   "outputs": [],
   "source": []
  },
  {
   "cell_type": "code",
   "execution_count": null,
   "metadata": {},
   "outputs": [],
   "source": [
    "conn = wrds.Connection(wrds_username=\"hholt\")\n",
    "conn.list_tables(library=\"optionm_all\")"
   ]
  },
  {
   "cell_type": "code",
   "execution_count": null,
   "metadata": {},
   "outputs": [],
   "source": [
    "conn.get_table(library=\"optionm_all\", table=\"opprcd1996\",obs=5)"
   ]
  },
  {
   "cell_type": "code",
   "execution_count": null,
   "metadata": {},
   "outputs": [],
   "source": [
    "conn.get_table(library=\"optionm_all\", table=\"stdopd1996\",obs=5)"
   ]
  },
  {
   "cell_type": "code",
   "execution_count": null,
   "metadata": {},
   "outputs": [],
   "source": [
    "df = pull_Option_info(\"hholt\")"
   ]
  },
  {
   "cell_type": "code",
   "execution_count": null,
   "metadata": {},
   "outputs": [],
   "source": [
    "opinfd.loc[opinfd['secid']==108105]"
   ]
  },
  {
   "cell_type": "code",
   "execution_count": null,
   "metadata": {},
   "outputs": [],
   "source": [
    "df.head()"
   ]
  },
  {
   "cell_type": "code",
   "execution_count": null,
   "metadata": {},
   "outputs": [],
   "source": [
    "dup_cols = ['cp_flag','strike_price']\n",
    "\n",
    "duplicates = df[df.duplicated(subset=dup_cols, keep=False)]\n"
   ]
  },
  {
   "cell_type": "code",
   "execution_count": null,
   "metadata": {},
   "outputs": [],
   "source": [
    "duplicates.head()"
   ]
  },
  {
   "cell_type": "code",
   "execution_count": null,
   "metadata": {},
   "outputs": [],
   "source": []
  }
 ],
 "metadata": {
  "kernelspec": {
   "display_name": "finm",
   "language": "python",
   "name": "python3"
  },
  "language_info": {
   "codemirror_mode": {
    "name": "ipython",
    "version": 3
   },
   "file_extension": ".py",
   "mimetype": "text/x-python",
   "name": "python",
   "nbconvert_exporter": "python",
   "pygments_lexer": "ipython3",
   "version": "3.12.1"
  }
 },
 "nbformat": 4,
 "nbformat_minor": 2
}
